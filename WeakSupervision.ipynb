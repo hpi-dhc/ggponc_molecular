{
 "cells": [
  {
   "cell_type": "markdown",
   "id": "1c5c3dbc-7e8d-47eb-8c78-591c4edc2347",
   "metadata": {},
   "source": [
    "##  GGTWEAK - German Gene Tagging with Weak Supervision\n",
    "\n",
    "Obtaining a sufficient amount of high-quality training data is one of the crucial points and most formidable challenges in deep learning-based natural language processing. In this work, we present GGTWEAK (German Gene Tagging with Weak Supervision). In conventional settings all data must be labelled manually while complexity often does not allow for the involvement of non-experts for this laborious and thus costly task. This is especially true for molecular data, which is hard to discriminate from common abbreviations syntactically. Therefore, GGTWEAK provides a baseline bridging the gap between English gene taggers and models usable for German. GGTWEAK saves human resources compared to its English counterparts and potentially can be trained for free after development on available data. \n",
    "We design labelling functions based on the structure of gene naming conventions and databases from both the medical and general domain. Following that, we train a hidden Markov model for label aggregration. Based on our weakly labelled data, we finally train a German BERT model for named entity recognition. This weak supervision approach for gene labelling in the German language leverages the skweak framework achieving an entity-level F1 score of 60.4% on our test set, while dealing with a highly unbalanced data from the German Guideline Program in Oncology NLP Corpus. The NER model trained on the same development dataset with quantitatively less strong labels achieved 53.9%."
   ]
  },
  {
   "cell_type": "code",
   "execution_count": 3,
   "id": "bb5a326a-91b3-4057-af63-82389654e86c",
   "metadata": {},
   "outputs": [],
   "source": [
    "import re\n",
    "import pandas as pd\n",
    "import numpy as np\n",
    "from pathlib import Path\n",
    "from tqdm import tqdm\n",
    "\n",
    "import nltk\n",
    "from nltk.corpus import stopwords\n",
    "\n",
    "import spacy\n",
    "from spacy.tokens import Span, DocBin\n",
    "from spacy_transformers import Transformer\n",
    "from spacy_transformers.pipeline_component import DEFAULT_CONFIG\n",
    "\n",
    "from skweak import heuristics, gazetteers, generative, utils, base\n",
    "from skweak.base import SpanAnnotator\n",
    "from skweak.heuristics import SpanEditorAnnotator, VicinityAnnotator, SpanConstraintAnnotator\n",
    "from skweak.analysis import LFAnalysis\n",
    "\n",
    "import sklearn.metrics\n",
    "\n",
    "from evaluation import evaluate, get_results, compute_raw_numbers, _get_probs, show_errors"
   ]
  },
  {
   "cell_type": "code",
   "execution_count": 4,
   "id": "9ca0dedc-eb7c-4e0d-96e0-e49f9ffee692",
   "metadata": {},
   "outputs": [],
   "source": [
    "stops = set(stopwords.words('german'))\n",
    "random_seed = 42"
   ]
  },
  {
   "cell_type": "markdown",
   "id": "1eeaf50d-2649-437d-83e5-6af3f8927bd0",
   "metadata": {},
   "source": [
    "# Load Data\n"
   ]
  },
  {
   "cell_type": "markdown",
   "id": "2d0d0caf",
   "metadata": {},
   "source": [
    "Here we customize the spaCy tokenizer without statistical model and loading the standard German spaCy model."
   ]
  },
  {
   "cell_type": "code",
   "execution_count": 5,
   "id": "8712ce01-00dd-4afd-af2d-eca3788c264e",
   "metadata": {},
   "outputs": [
    {
     "data": {
      "text/plain": [
       "<spacy.pipeline.sentencizer.Sentencizer at 0x7fa80e4813c0>"
      ]
     },
     "execution_count": 5,
     "metadata": {},
     "output_type": "execute_result"
    }
   ],
   "source": [
    "nlp = spacy.load('de_core_news_md')\n",
    "infixes = nlp.Defaults.infixes + [r'([-])']\n",
    "nlp.tokenizer.infix_finditer = spacy.util.compile_infix_regex(infixes).finditer\n",
    "nlp.add_pipe('sentencizer')"
   ]
  },
  {
   "cell_type": "markdown",
   "id": "201a60cb",
   "metadata": {},
   "source": [
    "In the following, we construct a dataframe from all sentences in GGPONC and concatenate them. "
   ]
  },
  {
   "cell_type": "code",
   "execution_count": 6,
   "id": "8f14c8ac-efb8-4fe5-8c50-a873f5714833",
   "metadata": {},
   "outputs": [],
   "source": [
    "GGPONC_PATH = 'data/ggponc/plain_text/sentences/all_files_sentences/'"
   ]
  },
  {
   "cell_type": "code",
   "execution_count": 7,
   "id": "0df70ec8",
   "metadata": {},
   "outputs": [
    {
     "data": {
      "text/plain": [
       "10193"
      ]
     },
     "execution_count": 7,
     "metadata": {},
     "output_type": "execute_result"
    }
   ],
   "source": [
    "sentences = list(Path(GGPONC_PATH).glob('*.txt'))\n",
    "len(sentences)"
   ]
  },
  {
   "cell_type": "code",
   "execution_count": 8,
   "id": "3c9a6a59",
   "metadata": {},
   "outputs": [],
   "source": [
    "def get_df(file):\n",
    "    df = pd.read_csv(file, delimiter='\\t', names =['text'] )\n",
    "    df['file'] = file.stem\n",
    "    df['sentence_id'] = df.index\n",
    "    return df"
   ]
  },
  {
   "cell_type": "code",
   "execution_count": 9,
   "id": "6710a0ed",
   "metadata": {},
   "outputs": [],
   "source": [
    "dfs = [get_df(file) for file in sentences]"
   ]
  },
  {
   "cell_type": "code",
   "execution_count": null,
   "id": "197a0013",
   "metadata": {},
   "outputs": [
    {
     "data": {
      "text/plain": [
       "85996"
      ]
     },
     "execution_count": 10,
     "metadata": {},
     "output_type": "execute_result"
    }
   ],
   "source": [
    "sentence_df = pd.concat(dfs)\n",
    "len(sentence_df)"
   ]
  },
  {
   "cell_type": "markdown",
   "id": "bae7c442-07f8-4727-a33a-cb84dca20aa4",
   "metadata": {},
   "source": [
    "# Labeling Functions"
   ]
  },
  {
   "cell_type": "markdown",
   "id": "0c52fdfc",
   "metadata": {},
   "source": [
    "The Clinical Interpretation of Variants in Cancer (CIViC) database is an opensource, open-access knowledgebase curated by experts on therapeutic, prognostic, diagnostic and predisposing relevance of inherited and somatic variants of every type. Both, genes and variants, are used in this project."
   ]
  },
  {
   "cell_type": "code",
   "execution_count": 11,
   "id": "09a9d007-e413-4718-8e00-dbe9d1f6ee5c",
   "metadata": {},
   "outputs": [],
   "source": [
    "df = pd.read_csv('data/molecular/nightly-GeneSummaries.tsv', sep='\\t')\n",
    "CIVIC_genes = df['name'].tolist()\n",
    "CIVIC_genes_lower = [c.lower() for c in CIVIC_genes]"
   ]
  },
  {
   "cell_type": "code",
   "execution_count": 12,
   "id": "34c3d555",
   "metadata": {},
   "outputs": [
    {
     "name": "stderr",
     "output_type": "stream",
     "text": [
      "Skipping line 13: expected 29 fields, saw 33\n",
      "Skipping line 17: expected 29 fields, saw 30\n",
      "Skipping line 31: expected 29 fields, saw 30\n",
      "Skipping line 441: expected 29 fields, saw 30\n",
      "Skipping line 502: expected 29 fields, saw 30\n",
      "Skipping line 553: expected 29 fields, saw 31\n",
      "\n"
     ]
    }
   ],
   "source": [
    "df = pd.read_csv('data/molecular/nightly-VariantSummaries.tsv', sep='\\t', error_bad_lines=False )\n",
    "CIVIC_variants = df['variant'].tolist()\n",
    "CIVIC_variants_lower = [c.lower() for c in CIVIC_variants]"
   ]
  },
  {
   "cell_type": "markdown",
   "id": "52b9bd79",
   "metadata": {},
   "source": [
    "\"cue_civic\" is based on the CIViC database. If a token contains a gene which is listed in the database, this and the next token are labelled a gene. This way, we do not restrict the function to a 100 percent match but leave it some leeway."
   ]
  },
  {
   "cell_type": "code",
   "execution_count": 13,
   "id": "912fc8c4",
   "metadata": {},
   "outputs": [],
   "source": [
    "def civic(doc):\n",
    "    for tok in doc:\n",
    "        for cue in CIVIC_genes:\n",
    "            if tok.text.find(cue) == -1:\n",
    "                continue\n",
    "            else:\n",
    "                yield tok.i, tok.i+1, \"Gene or Protein\"\n",
    "cue_civic = heuristics.FunctionAnnotator(\"cue_civic\", civic)"
   ]
  },
  {
   "cell_type": "markdown",
   "id": "a3d4ba0a",
   "metadata": {},
   "source": [
    "The Online Mendelian Inheritance in Man (OMIM) database is the encyclopedic collection of the human medical branch of genetics."
   ]
  },
  {
   "cell_type": "code",
   "execution_count": 14,
   "id": "3b2354cf",
   "metadata": {},
   "outputs": [
    {
     "name": "stdout",
     "output_type": "stream",
     "text": [
      "16767\n"
     ]
    }
   ],
   "source": [
    "omim_list = pd.read_csv(\"data/molecular/mim2gene.csv\")\n",
    "omim_list = omim_list['name'].tolist()\n",
    "omim_list_lower = [o.lower() for o in omim_list]\n",
    "short_genes = []\n",
    "for u in omim_list:\n",
    "    if len(u)<3:\n",
    "        short_genes.append(u)\n",
    "less_short_genes = []\n",
    "for u in omim_list:\n",
    "    if len(u)<5 and len(u)>2:\n",
    "        less_short_genes.append(u)\n",
    "print(len(omim_list))"
   ]
  },
  {
   "cell_type": "markdown",
   "id": "35a2989a",
   "metadata": {},
   "source": [
    "\"omim\" is based on the OMIM database and checks whether tokens are present in its list of 16,767 approved gene symbols in lowercase as the diversity of genes often shows in volatile capitalization. To increase precision, genes with a length shorter than three characters are matched only correctly cased."
   ]
  },
  {
   "cell_type": "code",
   "execution_count": 15,
   "id": "e6813e7a-8d36-4da2-9749-9c9b6ffc6d0f",
   "metadata": {},
   "outputs": [],
   "source": [
    "def omim(doc):\n",
    "    for tok in doc:\n",
    "        if tok.text.lower() in omim_list_lower and tok.text.lower() not in stops and len(tok.text.lower())>=3:\n",
    "            yield tok.i, tok.i+1, \"Gene or Protein\"\n",
    "omim = heuristics.FunctionAnnotator(\"omim\", omim) "
   ]
  },
  {
   "cell_type": "markdown",
   "id": "4769cf3d",
   "metadata": {},
   "source": [
    "The Catalogue of Somatic Mutations in Cancer (COSMIC) database harbors somatic cell mutations and additional information associated with cancer in humans."
   ]
  },
  {
   "cell_type": "code",
   "execution_count": 16,
   "id": "faecaa97",
   "metadata": {},
   "outputs": [],
   "source": [
    "cosmic_census = pd.read_csv(\"data/molecular/cancer_gene_census.csv\")\n",
    "cosmic_census = cosmic_census['Gene Symbol'].tolist()\n",
    "cosmic_census_lower = [c.lower() for c in cosmic_census]"
   ]
  },
  {
   "cell_type": "markdown",
   "id": "4f3983b3",
   "metadata": {},
   "source": [
    "\"cue_cosmic_census\" is based on the COSMIC database. If a token contains a gene symbol which is listed here, this token and its successor are annotated as a gene."
   ]
  },
  {
   "cell_type": "code",
   "execution_count": 17,
   "id": "60fe7a41",
   "metadata": {},
   "outputs": [],
   "source": [
    "def cosmic(doc):\n",
    "    for tok in doc:\n",
    "        for cue in cosmic_census:\n",
    "            if tok.text.find(cue) == -1:\n",
    "                continue\n",
    "            else:\n",
    "                yield tok.i, tok.i+1, \"Gene or Protein\"\n",
    "cue_cosmic_census = heuristics.FunctionAnnotator(\"cue_cosmic_census\", cosmic)  "
   ]
  },
  {
   "cell_type": "markdown",
   "id": "68e52e0a",
   "metadata": {},
   "source": [
    "\"construct\" is based on the Human Genome Organization (HUGO) Gene Nomenclature Committee (HGNC) naming conventions for genes and leverages regular expressions to let the annotator abide by them. Those expressions comprise various combinations of letters and numbers and certain fixed terms for shorter terms to avoid underfitting. In addition, the CIViC database for variants has also been included for a better recall."
   ]
  },
  {
   "cell_type": "code",
   "execution_count": 18,
   "id": "653ed53d",
   "metadata": {},
   "outputs": [],
   "source": [
    "def structure(doc):\n",
    "    for tok in doc:\n",
    "        if re.search(r\"[a-zA-Z]{4}\\d{2}\", tok.text) or re.search(r\"[a-zA-Z]{5}\\d{1}\", tok.text)\\\n",
    "        or re.search(r\"[a-zA-Z]{4}\\d{1}\", tok.text) or re.search(r\"[A-Z]{5}\\d{1}\", tok.text)\\\n",
    "        or re.search(r\"[A-Z]{5}\\d{2}\", tok.text) or re.search(r\"[A-Z]{3}\\d{2}\", tok.text)\\\n",
    "        or re.search(r\"[a-zA-Z]{2}\\d{3}[a-zA-Z]{2}\", tok.text) or re.search(r\"[a-zA-Z]{1}\\d{3}[a-zA-Z]{1}\", tok.text)\\\n",
    "        or re.search(r\"[A-Z]{3}\\d{2}\", tok.text) or re.search(r\"[A-Z]{6}\\d{1}\", tok.text)\\\n",
    "        or re.search(r\"[A-Z]{3}\\d{3}\", tok.text) or re.search(r\"[p]\\d{2}\", tok.text)\\\n",
    "        or re.search(r\"CYP[a-zA-Z0-9]{3}\", tok.text) or re.search(r\"CYP[a-zA-Z0-9]{2}\", tok.text)\\\n",
    "        or re.search(r\"[A-Z]{3}\\d{1}\", tok.text) or re.search(r\"[A-Z]{2}\\d{2}\", tok.text)\\\n",
    "        or re.search(r\"^CK.\", tok.text) or re.search(r\"^PD-..\", tok.text) or re.search(r\"^PS[MA|A]\", tok.text) or tok.text.lower in CIVIC_variants_lower:\n",
    "            yield tok.i, tok.i+1, \"Gene or Protein\"\n",
    "construct = heuristics.FunctionAnnotator(\"construct\", structure)"
   ]
  },
  {
   "cell_type": "code",
   "execution_count": 19,
   "id": "c4aed24b-34e9-48b9-b4fa-927ceb9172a8",
   "metadata": {},
   "outputs": [
    {
     "name": "stdout",
     "output_type": "stream",
     "text": [
      "249\n",
      "16784\n"
     ]
    }
   ],
   "source": [
    "# Calculate data stats (number of genes, sentences, etc...) -> Table for Materials\n",
    "# Intersections of the gazetteers are calculated below.\n",
    "intersection_db = list(set(cosmic_census_lower) & set(CIVIC_genes_lower) & set(omim_list_lower))\n",
    "union_db = set(set(cosmic_census_lower).union(set(CIVIC_genes_lower)).union(set(omim_list_lower)))\n",
    "print(len(intersection_db))\n",
    "print(len(union_db))"
   ]
  },
  {
   "cell_type": "markdown",
   "id": "aa06edd0",
   "metadata": {},
   "source": [
    "We define a list of labelling functions which we want to deploy onto our textual input. Every row in our dataframe is subject to examination. Those listed here was the best performing allocation from ca. 30 labelling functions."
   ]
  },
  {
   "cell_type": "code",
   "execution_count": 104,
   "id": "d9bc3aae-f3c3-4d76-93f1-ea2b44d8e9f9",
   "metadata": {},
   "outputs": [
    {
     "name": "stderr",
     "output_type": "stream",
     "text": [
      "100%|██████████████████████████████████████████████████████████████████████████████████████████████████| 1000/1000 [00:09<00:00, 105.74it/s]\n"
     ]
    }
   ],
   "source": [
    "lfs = [construct, cue_civic, omim, cue_cosmic_census]\n",
    "\n",
    "#For Quick Run with Random Sentences!\n",
    "#random_files = files_df.sample(n = 10000)\n",
    "all_docs = []\n",
    "\n",
    "for sentence_idx, doc in zip(tqdm(list(sentence_df.reset_index().iterrows())), nlp.pipe(sentence_df.text, batch_size=32, disable=[\"ner\"])):\n",
    "    i, row = sentence_idx\n",
    "    for lf in lfs:\n",
    "        doc = lf(doc)\n",
    "    all_docs.append(doc)"
   ]
  },
  {
   "cell_type": "markdown",
   "id": "6ef09bac-468f-4b72-bad7-13c8878c55ed",
   "metadata": {},
   "source": [
    "Remove files which have been manually annotated from the training dataset"
   ]
  },
  {
   "cell_type": "code",
   "execution_count": 105,
   "id": "628aeab7-901d-42a8-ade1-80e2d8bb5df5",
   "metadata": {},
   "outputs": [
    {
     "name": "stdout",
     "output_type": "stream",
     "text": [
      "Wir PRON\n",
      "behandeln VERB\n",
      "die DET\n",
      "Mutation NOUN\n",
      "es PRON\n",
      "mit ADP\n",
      "- PUNCT\n",
      "Gens NOUN\n",
      "mit ADP\n",
      "Chemotherapie NOUN\n",
      ". PUNCT\n"
     ]
    }
   ],
   "source": [
    "for t in nlp(\"Wir behandeln die Mutation es mit-Gens mit Chemotherapie.\"):\n",
    "    print(t, t.pos_)"
   ]
  },
  {
   "cell_type": "code",
   "execution_count": 100,
   "id": "6278c3b3-8e07-4198-b0ee-281e4943fdc3",
   "metadata": {},
   "outputs": [
    {
     "data": {
      "text/plain": [
       "'APPR'"
      ]
     },
     "execution_count": 100,
     "metadata": {},
     "output_type": "execute_result"
    }
   ],
   "source": []
  },
  {
   "cell_type": "code",
   "execution_count": 21,
   "id": "34c1e291-67ce-449e-a2dc-4aaa37b16d24",
   "metadata": {},
   "outputs": [
    {
     "data": {
      "text/plain": [
       "2000"
      ]
     },
     "execution_count": 21,
     "metadata": {},
     "output_type": "execute_result"
    }
   ],
   "source": [
    "with open('data/molecular/annotated_sentences.txt') as fh:\n",
    "    annotated_sentences = [l.strip() for l in fh.readlines()]\n",
    "len(annotated_sentences)"
   ]
  },
  {
   "cell_type": "code",
   "execution_count": 33,
   "id": "9022b1d4-4b52-4a80-8c26-37a9fc6af7cb",
   "metadata": {},
   "outputs": [
    {
     "data": {
      "text/plain": [
       "(83624, 83624)"
      ]
     },
     "execution_count": 33,
     "metadata": {},
     "output_type": "execute_result"
    }
   ],
   "source": [
    "docs, s_index = zip(*[(d, si) for d, si in zip(all_docs, sentence_df.reset_index().index) if not d.text in annotated_sentences])\n",
    "docs = list(docs)\n",
    "filtered_sentence_df = sentence_df.reset_index().loc[list(s_index)]\n",
    "len(docs), len(filtered_sentence_df)"
   ]
  },
  {
   "cell_type": "markdown",
   "id": "e9eeb61a-975b-43bf-9a30-4d7d3bc40b65",
   "metadata": {},
   "source": [
    "# Label Aggregation"
   ]
  },
  {
   "cell_type": "code",
   "execution_count": 34,
   "id": "cf2dd2ea-50b3-4a17-8905-30545b57a78b",
   "metadata": {},
   "outputs": [
    {
     "name": "stdout",
     "output_type": "stream",
     "text": [
      "Starting iteration 1\n",
      "Number of processed documents: 1000\n",
      "Number of processed documents: 2000\n",
      "Number of processed documents: 3000\n",
      "Finished E-step with 3900 documents\n",
      "Starting iteration 2\n"
     ]
    },
    {
     "name": "stderr",
     "output_type": "stream",
     "text": [
      "         1      -23864.9492             +nan\n"
     ]
    },
    {
     "name": "stdout",
     "output_type": "stream",
     "text": [
      "Number of processed documents: 1000\n",
      "Number of processed documents: 2000\n",
      "Number of processed documents: 3000\n",
      "Finished E-step with 3900 documents\n",
      "Starting iteration 3\n"
     ]
    },
    {
     "name": "stderr",
     "output_type": "stream",
     "text": [
      "         2      -23294.4616        +570.4876\n"
     ]
    },
    {
     "name": "stdout",
     "output_type": "stream",
     "text": [
      "Number of processed documents: 1000\n",
      "Number of processed documents: 2000\n",
      "Number of processed documents: 3000\n",
      "Finished E-step with 3900 documents\n",
      "Starting iteration 4\n"
     ]
    },
    {
     "name": "stderr",
     "output_type": "stream",
     "text": [
      "         3      -23286.3068          +8.1548\n"
     ]
    },
    {
     "name": "stdout",
     "output_type": "stream",
     "text": [
      "Number of processed documents: 1000\n",
      "Number of processed documents: 2000\n",
      "Number of processed documents: 3000\n",
      "Finished E-step with 3900 documents\n"
     ]
    },
    {
     "name": "stderr",
     "output_type": "stream",
     "text": [
      "         4      -23284.9836          +1.3232\n"
     ]
    }
   ],
   "source": [
    "# Training of HMM and Majority Voter\n",
    "#voter = skweak.voting.SequentialMajorityVoter(\"maj_voter\", labels=[\"Gen\"])\n",
    "#voter.fit(docs)\n",
    "hmm = generative.HMM(\"hmm\", [\"Gene or Protein\"])\n",
    "hmm.fit(docs)"
   ]
  },
  {
   "cell_type": "code",
   "execution_count": 35,
   "id": "00c04eb3-5190-4b49-80a1-457e98e1fa70",
   "metadata": {},
   "outputs": [],
   "source": [
    "for d in docs:\n",
    "    d = hmm(d)\n",
    "    d.ents = d.spans[\"hmm\"]"
   ]
  },
  {
   "cell_type": "markdown",
   "id": "f3066aa9-db13-490e-ac24-432bffdd6577",
   "metadata": {},
   "source": [
    "Consider subset of files where at least on LF has matched"
   ]
  },
  {
   "cell_type": "code",
   "execution_count": 36,
   "id": "d07ab611-b36a-4eb4-beb4-0002fda81327",
   "metadata": {},
   "outputs": [],
   "source": [
    "lf_match = []\n",
    "for d in docs:\n",
    "    lf_match.append(any([len(v) > 0 for s, v in d.spans.items() if s != 'hmm']))\n",
    "\n",
    "filtered_sentence_df['lf_match'] = lf_match\n",
    "by_file = filtered_sentence_df.groupby('file')['lf_match'].max()\n",
    "match_files = by_file[by_file.values].index\n",
    "\n",
    "filtered_docs = [d for d, match in zip(docs, filtered_sentence_df.file.isin(match_files)) if match]\n",
    "gene_docs = [d for d, match in zip(docs, lf_match) if match]"
   ]
  },
  {
   "cell_type": "code",
   "execution_count": 37,
   "id": "19236a84-2a05-4d61-aefd-789e804bd7da",
   "metadata": {},
   "outputs": [
    {
     "data": {
      "text/plain": [
       "(83624, 31299, 3900)"
      ]
     },
     "execution_count": 37,
     "metadata": {},
     "output_type": "execute_result"
    }
   ],
   "source": [
    "len(docs), len(filtered_docs), len(gene_docs)"
   ]
  },
  {
   "cell_type": "code",
   "execution_count": 38,
   "id": "c1bd6907-4ed1-4f3e-8bfc-a032a69cfcca",
   "metadata": {},
   "outputs": [
    {
     "name": "stdout",
     "output_type": "stream",
     "text": [
      "Write to output/weak_training_lg.spacy...done\n",
      "Write to output/weak_training_md.spacy...done\n"
     ]
    }
   ],
   "source": [
    "utils.docbin_writer(docs, f\"output/weak_training_lg.spacy\")\n",
    "utils.docbin_writer(filtered_docs, f\"output/weak_training_md.spacy\")"
   ]
  },
  {
   "cell_type": "markdown",
   "id": "6e00ac4b-8333-44bf-9274-ab6734810bbb",
   "metadata": {},
   "source": [
    "# Labeling Function Analysis"
   ]
  },
  {
   "cell_type": "code",
   "execution_count": 39,
   "id": "595183ba-63b3-4ca7-8870-2647745676d4",
   "metadata": {},
   "outputs": [],
   "source": [
    "gold_docs_dev = list(DocBin().from_disk('data/molecular/gold_dev.spacy').get_docs(nlp.vocab))"
   ]
  },
  {
   "cell_type": "markdown",
   "id": "8764f34a",
   "metadata": {},
   "source": [
    "Our labeling functions must also be deployed onto the gold standard data to evaluate strong supervision against weak supervision."
   ]
  },
  {
   "cell_type": "code",
   "execution_count": 40,
   "id": "97cce16c-4d79-4dc8-83dd-c54f60795f67",
   "metadata": {},
   "outputs": [],
   "source": [
    "def apply_hmm(gold_docs):\n",
    "    for g in tqdm(gold_docs):\n",
    "        if 'Gene or Protein' in g.spans:\n",
    "            del g.spans['Gene or Protein']\n",
    "        for lf in lfs:\n",
    "            g = lf(g)\n",
    "        g = hmm(g)"
   ]
  },
  {
   "cell_type": "code",
   "execution_count": 41,
   "id": "2113b209",
   "metadata": {},
   "outputs": [
    {
     "name": "stderr",
     "output_type": "stream",
     "text": [
      "100%|███████████████████████████████████████████████████████████████████████████████████████████████████| 1000/1000 [00:11<00:00, 87.95it/s]\n"
     ]
    }
   ],
   "source": [
    "apply_hmm(gold_docs_dev)"
   ]
  },
  {
   "cell_type": "code",
   "execution_count": 42,
   "id": "f79a91a8",
   "metadata": {},
   "outputs": [
    {
     "data": {
      "text/html": [
       "<div>\n",
       "<style scoped>\n",
       "    .dataframe tbody tr th:only-of-type {\n",
       "        vertical-align: middle;\n",
       "    }\n",
       "\n",
       "    .dataframe tbody tr th {\n",
       "        vertical-align: top;\n",
       "    }\n",
       "\n",
       "    .dataframe thead th {\n",
       "        text-align: right;\n",
       "    }\n",
       "</style>\n",
       "<table border=\"1\" class=\"dataframe\">\n",
       "  <thead>\n",
       "    <tr style=\"text-align: right;\">\n",
       "      <th></th>\n",
       "      <th></th>\n",
       "      <th></th>\n",
       "      <th>tok_precision</th>\n",
       "      <th>tok_recall</th>\n",
       "      <th>tok_f1</th>\n",
       "      <th>tok_cee</th>\n",
       "      <th>tok_acc</th>\n",
       "      <th>coverage</th>\n",
       "      <th>ent_precision</th>\n",
       "      <th>ent_recall</th>\n",
       "      <th>ent_f1</th>\n",
       "    </tr>\n",
       "    <tr>\n",
       "      <th>label</th>\n",
       "      <th>proportion</th>\n",
       "      <th>model</th>\n",
       "      <th></th>\n",
       "      <th></th>\n",
       "      <th></th>\n",
       "      <th></th>\n",
       "      <th></th>\n",
       "      <th></th>\n",
       "      <th></th>\n",
       "      <th></th>\n",
       "      <th></th>\n",
       "    </tr>\n",
       "  </thead>\n",
       "  <tbody>\n",
       "    <tr>\n",
       "      <th rowspan=\"5\" valign=\"top\">Gene or Protein</th>\n",
       "      <th rowspan=\"5\" valign=\"top\">100.0 %</th>\n",
       "      <th>construct</th>\n",
       "      <td>0.879</td>\n",
       "      <td>0.244</td>\n",
       "      <td>0.382</td>\n",
       "      <td></td>\n",
       "      <td></td>\n",
       "      <td></td>\n",
       "      <td>0.833</td>\n",
       "      <td>0.305</td>\n",
       "      <td>0.446</td>\n",
       "    </tr>\n",
       "    <tr>\n",
       "      <th>cue_civic</th>\n",
       "      <td>0.975</td>\n",
       "      <td>0.372</td>\n",
       "      <td>0.538</td>\n",
       "      <td></td>\n",
       "      <td></td>\n",
       "      <td></td>\n",
       "      <td>0.941</td>\n",
       "      <td>0.474</td>\n",
       "      <td>0.630</td>\n",
       "    </tr>\n",
       "    <tr>\n",
       "      <th>cue_cosmic_census</th>\n",
       "      <td>0.960</td>\n",
       "      <td>0.342</td>\n",
       "      <td>0.504</td>\n",
       "      <td></td>\n",
       "      <td></td>\n",
       "      <td></td>\n",
       "      <td>0.928</td>\n",
       "      <td>0.436</td>\n",
       "      <td>0.594</td>\n",
       "    </tr>\n",
       "    <tr>\n",
       "      <th>hmm</th>\n",
       "      <td>0.919</td>\n",
       "      <td>0.487</td>\n",
       "      <td>0.636</td>\n",
       "      <td></td>\n",
       "      <td></td>\n",
       "      <td></td>\n",
       "      <td>0.873</td>\n",
       "      <td>0.611</td>\n",
       "      <td>0.718</td>\n",
       "    </tr>\n",
       "    <tr>\n",
       "      <th>omim</th>\n",
       "      <td>0.955</td>\n",
       "      <td>0.411</td>\n",
       "      <td>0.574</td>\n",
       "      <td></td>\n",
       "      <td></td>\n",
       "      <td></td>\n",
       "      <td>0.926</td>\n",
       "      <td>0.524</td>\n",
       "      <td>0.670</td>\n",
       "    </tr>\n",
       "    <tr>\n",
       "      <th rowspan=\"5\" valign=\"top\">macro</th>\n",
       "      <th rowspan=\"5\" valign=\"top\"></th>\n",
       "      <th>construct</th>\n",
       "      <td>0.879</td>\n",
       "      <td>0.244</td>\n",
       "      <td>0.382</td>\n",
       "      <td></td>\n",
       "      <td></td>\n",
       "      <td></td>\n",
       "      <td>0.833</td>\n",
       "      <td>0.305</td>\n",
       "      <td>0.446</td>\n",
       "    </tr>\n",
       "    <tr>\n",
       "      <th>cue_civic</th>\n",
       "      <td>0.975</td>\n",
       "      <td>0.372</td>\n",
       "      <td>0.538</td>\n",
       "      <td></td>\n",
       "      <td></td>\n",
       "      <td></td>\n",
       "      <td>0.941</td>\n",
       "      <td>0.474</td>\n",
       "      <td>0.630</td>\n",
       "    </tr>\n",
       "    <tr>\n",
       "      <th>cue_cosmic_census</th>\n",
       "      <td>0.960</td>\n",
       "      <td>0.342</td>\n",
       "      <td>0.504</td>\n",
       "      <td></td>\n",
       "      <td></td>\n",
       "      <td></td>\n",
       "      <td>0.928</td>\n",
       "      <td>0.436</td>\n",
       "      <td>0.594</td>\n",
       "    </tr>\n",
       "    <tr>\n",
       "      <th>hmm</th>\n",
       "      <td>0.919</td>\n",
       "      <td>0.487</td>\n",
       "      <td>0.636</td>\n",
       "      <td></td>\n",
       "      <td></td>\n",
       "      <td></td>\n",
       "      <td>0.873</td>\n",
       "      <td>0.611</td>\n",
       "      <td>0.718</td>\n",
       "    </tr>\n",
       "    <tr>\n",
       "      <th>omim</th>\n",
       "      <td>0.955</td>\n",
       "      <td>0.411</td>\n",
       "      <td>0.574</td>\n",
       "      <td></td>\n",
       "      <td></td>\n",
       "      <td></td>\n",
       "      <td>0.926</td>\n",
       "      <td>0.524</td>\n",
       "      <td>0.670</td>\n",
       "    </tr>\n",
       "    <tr>\n",
       "      <th rowspan=\"5\" valign=\"top\">micro</th>\n",
       "      <th rowspan=\"5\" valign=\"top\"></th>\n",
       "      <th>construct</th>\n",
       "      <td>0.879</td>\n",
       "      <td>0.244</td>\n",
       "      <td>0.382</td>\n",
       "      <td>0.819</td>\n",
       "      <td>0.976</td>\n",
       "      <td>0.278</td>\n",
       "      <td>0.833</td>\n",
       "      <td>0.305</td>\n",
       "      <td>0.446</td>\n",
       "    </tr>\n",
       "    <tr>\n",
       "      <th>cue_civic</th>\n",
       "      <td>0.975</td>\n",
       "      <td>0.372</td>\n",
       "      <td>0.538</td>\n",
       "      <td>0.819</td>\n",
       "      <td>0.976</td>\n",
       "      <td>0.382</td>\n",
       "      <td>0.941</td>\n",
       "      <td>0.474</td>\n",
       "      <td>0.630</td>\n",
       "    </tr>\n",
       "    <tr>\n",
       "      <th>cue_cosmic_census</th>\n",
       "      <td>0.960</td>\n",
       "      <td>0.342</td>\n",
       "      <td>0.504</td>\n",
       "      <td>0.819</td>\n",
       "      <td>0.976</td>\n",
       "      <td>0.356</td>\n",
       "      <td>0.928</td>\n",
       "      <td>0.436</td>\n",
       "      <td>0.594</td>\n",
       "    </tr>\n",
       "    <tr>\n",
       "      <th>hmm</th>\n",
       "      <td>0.919</td>\n",
       "      <td>0.487</td>\n",
       "      <td>0.636</td>\n",
       "      <td>0.42</td>\n",
       "      <td>0.987</td>\n",
       "      <td>0.53</td>\n",
       "      <td>0.873</td>\n",
       "      <td>0.611</td>\n",
       "      <td>0.718</td>\n",
       "    </tr>\n",
       "    <tr>\n",
       "      <th>omim</th>\n",
       "      <td>0.955</td>\n",
       "      <td>0.411</td>\n",
       "      <td>0.574</td>\n",
       "      <td>0.819</td>\n",
       "      <td>0.976</td>\n",
       "      <td>0.43</td>\n",
       "      <td>0.926</td>\n",
       "      <td>0.524</td>\n",
       "      <td>0.670</td>\n",
       "    </tr>\n",
       "    <tr>\n",
       "      <th rowspan=\"5\" valign=\"top\">weighted</th>\n",
       "      <th rowspan=\"5\" valign=\"top\"></th>\n",
       "      <th>construct</th>\n",
       "      <td>0.879</td>\n",
       "      <td>0.244</td>\n",
       "      <td>0.382</td>\n",
       "      <td></td>\n",
       "      <td></td>\n",
       "      <td></td>\n",
       "      <td>0.833</td>\n",
       "      <td>0.305</td>\n",
       "      <td>0.446</td>\n",
       "    </tr>\n",
       "    <tr>\n",
       "      <th>cue_civic</th>\n",
       "      <td>0.975</td>\n",
       "      <td>0.372</td>\n",
       "      <td>0.538</td>\n",
       "      <td></td>\n",
       "      <td></td>\n",
       "      <td></td>\n",
       "      <td>0.941</td>\n",
       "      <td>0.474</td>\n",
       "      <td>0.630</td>\n",
       "    </tr>\n",
       "    <tr>\n",
       "      <th>cue_cosmic_census</th>\n",
       "      <td>0.960</td>\n",
       "      <td>0.342</td>\n",
       "      <td>0.504</td>\n",
       "      <td></td>\n",
       "      <td></td>\n",
       "      <td></td>\n",
       "      <td>0.928</td>\n",
       "      <td>0.436</td>\n",
       "      <td>0.594</td>\n",
       "    </tr>\n",
       "    <tr>\n",
       "      <th>hmm</th>\n",
       "      <td>0.919</td>\n",
       "      <td>0.487</td>\n",
       "      <td>0.636</td>\n",
       "      <td></td>\n",
       "      <td></td>\n",
       "      <td></td>\n",
       "      <td>0.873</td>\n",
       "      <td>0.611</td>\n",
       "      <td>0.718</td>\n",
       "    </tr>\n",
       "    <tr>\n",
       "      <th>omim</th>\n",
       "      <td>0.955</td>\n",
       "      <td>0.411</td>\n",
       "      <td>0.574</td>\n",
       "      <td></td>\n",
       "      <td></td>\n",
       "      <td></td>\n",
       "      <td>0.926</td>\n",
       "      <td>0.524</td>\n",
       "      <td>0.670</td>\n",
       "    </tr>\n",
       "  </tbody>\n",
       "</table>\n",
       "</div>"
      ],
      "text/plain": [
       "                                              tok_precision  tok_recall  \\\n",
       "label           proportion model                                          \n",
       "Gene or Protein 100.0 %    construct                  0.879       0.244   \n",
       "                           cue_civic                  0.975       0.372   \n",
       "                           cue_cosmic_census          0.960       0.342   \n",
       "                           hmm                        0.919       0.487   \n",
       "                           omim                       0.955       0.411   \n",
       "macro                      construct                  0.879       0.244   \n",
       "                           cue_civic                  0.975       0.372   \n",
       "                           cue_cosmic_census          0.960       0.342   \n",
       "                           hmm                        0.919       0.487   \n",
       "                           omim                       0.955       0.411   \n",
       "micro                      construct                  0.879       0.244   \n",
       "                           cue_civic                  0.975       0.372   \n",
       "                           cue_cosmic_census          0.960       0.342   \n",
       "                           hmm                        0.919       0.487   \n",
       "                           omim                       0.955       0.411   \n",
       "weighted                   construct                  0.879       0.244   \n",
       "                           cue_civic                  0.975       0.372   \n",
       "                           cue_cosmic_census          0.960       0.342   \n",
       "                           hmm                        0.919       0.487   \n",
       "                           omim                       0.955       0.411   \n",
       "\n",
       "                                              tok_f1 tok_cee tok_acc coverage  \\\n",
       "label           proportion model                                                \n",
       "Gene or Protein 100.0 %    construct           0.382                            \n",
       "                           cue_civic           0.538                            \n",
       "                           cue_cosmic_census   0.504                            \n",
       "                           hmm                 0.636                            \n",
       "                           omim                0.574                            \n",
       "macro                      construct           0.382                            \n",
       "                           cue_civic           0.538                            \n",
       "                           cue_cosmic_census   0.504                            \n",
       "                           hmm                 0.636                            \n",
       "                           omim                0.574                            \n",
       "micro                      construct           0.382   0.819   0.976    0.278   \n",
       "                           cue_civic           0.538   0.819   0.976    0.382   \n",
       "                           cue_cosmic_census   0.504   0.819   0.976    0.356   \n",
       "                           hmm                 0.636    0.42   0.987     0.53   \n",
       "                           omim                0.574   0.819   0.976     0.43   \n",
       "weighted                   construct           0.382                            \n",
       "                           cue_civic           0.538                            \n",
       "                           cue_cosmic_census   0.504                            \n",
       "                           hmm                 0.636                            \n",
       "                           omim                0.574                            \n",
       "\n",
       "                                              ent_precision  ent_recall  \\\n",
       "label           proportion model                                          \n",
       "Gene or Protein 100.0 %    construct                  0.833       0.305   \n",
       "                           cue_civic                  0.941       0.474   \n",
       "                           cue_cosmic_census          0.928       0.436   \n",
       "                           hmm                        0.873       0.611   \n",
       "                           omim                       0.926       0.524   \n",
       "macro                      construct                  0.833       0.305   \n",
       "                           cue_civic                  0.941       0.474   \n",
       "                           cue_cosmic_census          0.928       0.436   \n",
       "                           hmm                        0.873       0.611   \n",
       "                           omim                       0.926       0.524   \n",
       "micro                      construct                  0.833       0.305   \n",
       "                           cue_civic                  0.941       0.474   \n",
       "                           cue_cosmic_census          0.928       0.436   \n",
       "                           hmm                        0.873       0.611   \n",
       "                           omim                       0.926       0.524   \n",
       "weighted                   construct                  0.833       0.305   \n",
       "                           cue_civic                  0.941       0.474   \n",
       "                           cue_cosmic_census          0.928       0.436   \n",
       "                           hmm                        0.873       0.611   \n",
       "                           omim                       0.926       0.524   \n",
       "\n",
       "                                              ent_f1  \n",
       "label           proportion model                      \n",
       "Gene or Protein 100.0 %    construct           0.446  \n",
       "                           cue_civic           0.630  \n",
       "                           cue_cosmic_census   0.594  \n",
       "                           hmm                 0.718  \n",
       "                           omim                0.670  \n",
       "macro                      construct           0.446  \n",
       "                           cue_civic           0.630  \n",
       "                           cue_cosmic_census   0.594  \n",
       "                           hmm                 0.718  \n",
       "                           omim                0.670  \n",
       "micro                      construct           0.446  \n",
       "                           cue_civic           0.630  \n",
       "                           cue_cosmic_census   0.594  \n",
       "                           hmm                 0.718  \n",
       "                           omim                0.670  \n",
       "weighted                   construct           0.446  \n",
       "                           cue_civic           0.630  \n",
       "                           cue_cosmic_census   0.594  \n",
       "                           hmm                 0.718  \n",
       "                           omim                0.670  "
      ]
     },
     "execution_count": 42,
     "metadata": {},
     "output_type": "execute_result"
    }
   ],
   "source": [
    "# HMM / LFs vs. Gold-Standard\n",
    "#evaluate(gold_docs, ['Gen'], ['lf15', 'hmm'])\n",
    "evaluate(gold_docs_dev, ['Gene or Protein'], [l.name for l in lfs] + ['hmm'])"
   ]
  },
  {
   "cell_type": "markdown",
   "id": "c793b3ee-500a-4d28-8086-27a5e456fb27",
   "metadata": {},
   "source": [
    "# Training of Transformer-based NER Models"
   ]
  },
  {
   "cell_type": "markdown",
   "id": "7fc7b292-c94a-45f9-8e06-a862a3932019",
   "metadata": {},
   "source": [
    "Train test splits for strong supervision"
   ]
  },
  {
   "cell_type": "code",
   "execution_count": 43,
   "id": "5f713abd-6637-481b-8fea-39972eb129f4",
   "metadata": {},
   "outputs": [
    {
     "name": "stdout",
     "output_type": "stream",
     "text": [
      "Write to output/strong_train.spacy...done\n",
      "Write to output/strong_dev.spacy...done\n"
     ]
    }
   ],
   "source": [
    "from sklearn.model_selection import train_test_split\n",
    "gold_docs_strong = list(DocBin().from_disk('data/molecular/gold_dev.spacy').get_docs(nlp.vocab))\n",
    "\n",
    "docs_strong_train, docs_strong_dev = train_test_split(gold_docs_strong, test_size=0.2, random_state=random_seed)\n",
    "utils.docbin_writer(docs_strong_train, 'output/strong_train.spacy')\n",
    "utils.docbin_writer(docs_strong_dev, 'output/strong_dev.spacy')"
   ]
  },
  {
   "cell_type": "code",
   "execution_count": null,
   "id": "fe40f18b-2112-479f-a513-a7728b095a33",
   "metadata": {},
   "outputs": [],
   "source": [
    "# Train NER model on weak labels with spaCy\n",
    "!spacy train config.cfg --paths.train output/weak_training_lg.spacy  --paths.dev data/molecular/gold_dev.spacy --output output/weak_ner_lg --gpu-id 0 --code training.py"
   ]
  },
  {
   "cell_type": "code",
   "execution_count": null,
   "id": "9ecbde44-9646-4267-bc26-e5332d4dc202",
   "metadata": {},
   "outputs": [],
   "source": [
    "# Train NER model on smaller set of weak labels with spaCy\n",
    "#!spacy train config.cfg --paths.train output/weak_training_md.spacy  --paths.dev data/molecular/gold_dev.spacy --output output/weak_ner_md --gpu-id 0 --code training.py"
   ]
  },
  {
   "cell_type": "code",
   "execution_count": null,
   "id": "4907d92c-3ead-411c-aa30-0d07215fb8c1",
   "metadata": {},
   "outputs": [],
   "source": [
    "# Baseline: train NER model on strong labels with spaCy\n",
    "    !spacy train config.cfg --paths.train output/strong_train.spacy --paths.dev output/strong_dev.spacy --output output/strong_ner --gpu-id 0 --code training.py"
   ]
  },
  {
   "cell_type": "markdown",
   "id": "42435ea6-98d4-4dbe-9c45-188ab8d4d690",
   "metadata": {},
   "source": [
    "# Evaluation"
   ]
  },
  {
   "cell_type": "code",
   "execution_count": 67,
   "id": "8842e777-aa91-485e-8e61-a4fc70790679",
   "metadata": {},
   "outputs": [],
   "source": [
    "ner_model_weak = spacy.load('output/weak_ner_lg/model-best/')\n",
    "ner_model_strong = spacy.load('output/strong_ner/model-best/')"
   ]
  },
  {
   "cell_type": "code",
   "execution_count": 68,
   "id": "ef897e37-9bae-49ee-b8c1-267f19ceffe5",
   "metadata": {},
   "outputs": [],
   "source": [
    "from IPython.display import display, Markdown\n",
    "\n",
    "def print_metrics(gold_docs, is_test : bool):\n",
    "    display(Markdown('__Labeling Function / HMM performance__'))\n",
    "    gold_ents = [d.ents for d in gold_docs]\n",
    "    \n",
    "    apply_hmm(gold_docs)\n",
    "    \n",
    "    display(evaluate(gold_docs, ['Gene or Protein'], [l.name for l in lfs] + ['hmm']).loc['Gene or Protein'])\n",
    "        \n",
    "    display(Markdown('__Weak NER Performance__'))\n",
    "    for d, gold_ent in zip(gold_docs, tqdm(gold_ents)):\n",
    "        d.set_ents([])\n",
    "        d = ner_model_weak(d)\n",
    "        d.spans['ner_model'] = d.ents\n",
    "        d.set_ents(gold_ent)\n",
    "    display(evaluate(gold_docs, ['Gene or Protein'], ['ner_model']).loc['Gene or Protein'])\n",
    "    \n",
    "    if is_test:\n",
    "        display(Markdown('__Strong NER Performance__'))\n",
    "        for d, gold_ent in zip(gold_docs, tqdm(gold_ents)):\n",
    "            d.set_ents([])\n",
    "            d = ner_model_strong(d)\n",
    "            d.spans['ner_model'] = d.ents\n",
    "            d.set_ents(gold_ent)\n",
    "        display(evaluate(gold_docs, ['Gene or Protein'], ['ner_model']).loc['Gene or Protein'])"
   ]
  },
  {
   "cell_type": "markdown",
   "id": "447db4d7-1452-41ed-b0e8-802d8a7d8364",
   "metadata": {},
   "source": [
    "## Dev Set Evaluation"
   ]
  },
  {
   "cell_type": "code",
   "execution_count": 69,
   "id": "5be94760-3fa5-40e9-bb8f-d798cd452f6b",
   "metadata": {},
   "outputs": [
    {
     "data": {
      "text/markdown": [
       "__Labeling Function / HMM performance__"
      ],
      "text/plain": [
       "<IPython.core.display.Markdown object>"
      ]
     },
     "metadata": {},
     "output_type": "display_data"
    },
    {
     "name": "stderr",
     "output_type": "stream",
     "text": [
      "100%|███████████████████████████████████████████████████████████████████████████████████████████████████| 1000/1000 [00:11<00:00, 84.70it/s]\n"
     ]
    },
    {
     "data": {
      "text/html": [
       "<div>\n",
       "<style scoped>\n",
       "    .dataframe tbody tr th:only-of-type {\n",
       "        vertical-align: middle;\n",
       "    }\n",
       "\n",
       "    .dataframe tbody tr th {\n",
       "        vertical-align: top;\n",
       "    }\n",
       "\n",
       "    .dataframe thead th {\n",
       "        text-align: right;\n",
       "    }\n",
       "</style>\n",
       "<table border=\"1\" class=\"dataframe\">\n",
       "  <thead>\n",
       "    <tr style=\"text-align: right;\">\n",
       "      <th></th>\n",
       "      <th></th>\n",
       "      <th>tok_precision</th>\n",
       "      <th>tok_recall</th>\n",
       "      <th>tok_f1</th>\n",
       "      <th>tok_cee</th>\n",
       "      <th>tok_acc</th>\n",
       "      <th>coverage</th>\n",
       "      <th>ent_precision</th>\n",
       "      <th>ent_recall</th>\n",
       "      <th>ent_f1</th>\n",
       "    </tr>\n",
       "    <tr>\n",
       "      <th>proportion</th>\n",
       "      <th>model</th>\n",
       "      <th></th>\n",
       "      <th></th>\n",
       "      <th></th>\n",
       "      <th></th>\n",
       "      <th></th>\n",
       "      <th></th>\n",
       "      <th></th>\n",
       "      <th></th>\n",
       "      <th></th>\n",
       "    </tr>\n",
       "  </thead>\n",
       "  <tbody>\n",
       "    <tr>\n",
       "      <th rowspan=\"5\" valign=\"top\">100.0 %</th>\n",
       "      <th>construct</th>\n",
       "      <td>0.879</td>\n",
       "      <td>0.244</td>\n",
       "      <td>0.382</td>\n",
       "      <td></td>\n",
       "      <td></td>\n",
       "      <td></td>\n",
       "      <td>0.833</td>\n",
       "      <td>0.305</td>\n",
       "      <td>0.446</td>\n",
       "    </tr>\n",
       "    <tr>\n",
       "      <th>cue_civic</th>\n",
       "      <td>0.975</td>\n",
       "      <td>0.372</td>\n",
       "      <td>0.538</td>\n",
       "      <td></td>\n",
       "      <td></td>\n",
       "      <td></td>\n",
       "      <td>0.941</td>\n",
       "      <td>0.474</td>\n",
       "      <td>0.630</td>\n",
       "    </tr>\n",
       "    <tr>\n",
       "      <th>cue_cosmic_census</th>\n",
       "      <td>0.960</td>\n",
       "      <td>0.342</td>\n",
       "      <td>0.504</td>\n",
       "      <td></td>\n",
       "      <td></td>\n",
       "      <td></td>\n",
       "      <td>0.928</td>\n",
       "      <td>0.436</td>\n",
       "      <td>0.594</td>\n",
       "    </tr>\n",
       "    <tr>\n",
       "      <th>hmm</th>\n",
       "      <td>0.919</td>\n",
       "      <td>0.487</td>\n",
       "      <td>0.636</td>\n",
       "      <td></td>\n",
       "      <td></td>\n",
       "      <td></td>\n",
       "      <td>0.873</td>\n",
       "      <td>0.611</td>\n",
       "      <td>0.718</td>\n",
       "    </tr>\n",
       "    <tr>\n",
       "      <th>omim</th>\n",
       "      <td>0.955</td>\n",
       "      <td>0.411</td>\n",
       "      <td>0.574</td>\n",
       "      <td></td>\n",
       "      <td></td>\n",
       "      <td></td>\n",
       "      <td>0.926</td>\n",
       "      <td>0.524</td>\n",
       "      <td>0.670</td>\n",
       "    </tr>\n",
       "  </tbody>\n",
       "</table>\n",
       "</div>"
      ],
      "text/plain": [
       "                              tok_precision  tok_recall  tok_f1 tok_cee  \\\n",
       "proportion model                                                          \n",
       "100.0 %    construct                  0.879       0.244   0.382           \n",
       "           cue_civic                  0.975       0.372   0.538           \n",
       "           cue_cosmic_census          0.960       0.342   0.504           \n",
       "           hmm                        0.919       0.487   0.636           \n",
       "           omim                       0.955       0.411   0.574           \n",
       "\n",
       "                             tok_acc coverage  ent_precision  ent_recall  \\\n",
       "proportion model                                                           \n",
       "100.0 %    construct                                   0.833       0.305   \n",
       "           cue_civic                                   0.941       0.474   \n",
       "           cue_cosmic_census                           0.928       0.436   \n",
       "           hmm                                         0.873       0.611   \n",
       "           omim                                        0.926       0.524   \n",
       "\n",
       "                              ent_f1  \n",
       "proportion model                      \n",
       "100.0 %    construct           0.446  \n",
       "           cue_civic           0.630  \n",
       "           cue_cosmic_census   0.594  \n",
       "           hmm                 0.718  \n",
       "           omim                0.670  "
      ]
     },
     "metadata": {},
     "output_type": "display_data"
    },
    {
     "data": {
      "text/markdown": [
       "__Weak NER Performance__"
      ],
      "text/plain": [
       "<IPython.core.display.Markdown object>"
      ]
     },
     "metadata": {},
     "output_type": "display_data"
    },
    {
     "name": "stderr",
     "output_type": "stream",
     "text": [
      "100%|███████████████████████████████████████████████████████████████████████████████████████████████████▉| 999/1000 [00:37<00:00, 26.56it/s]\n"
     ]
    },
    {
     "data": {
      "text/html": [
       "<div>\n",
       "<style scoped>\n",
       "    .dataframe tbody tr th:only-of-type {\n",
       "        vertical-align: middle;\n",
       "    }\n",
       "\n",
       "    .dataframe tbody tr th {\n",
       "        vertical-align: top;\n",
       "    }\n",
       "\n",
       "    .dataframe thead th {\n",
       "        text-align: right;\n",
       "    }\n",
       "</style>\n",
       "<table border=\"1\" class=\"dataframe\">\n",
       "  <thead>\n",
       "    <tr style=\"text-align: right;\">\n",
       "      <th></th>\n",
       "      <th></th>\n",
       "      <th>tok_precision</th>\n",
       "      <th>tok_recall</th>\n",
       "      <th>tok_f1</th>\n",
       "      <th>tok_cee</th>\n",
       "      <th>tok_acc</th>\n",
       "      <th>coverage</th>\n",
       "      <th>ent_precision</th>\n",
       "      <th>ent_recall</th>\n",
       "      <th>ent_f1</th>\n",
       "    </tr>\n",
       "    <tr>\n",
       "      <th>proportion</th>\n",
       "      <th>model</th>\n",
       "      <th></th>\n",
       "      <th></th>\n",
       "      <th></th>\n",
       "      <th></th>\n",
       "      <th></th>\n",
       "      <th></th>\n",
       "      <th></th>\n",
       "      <th></th>\n",
       "      <th></th>\n",
       "    </tr>\n",
       "  </thead>\n",
       "  <tbody>\n",
       "    <tr>\n",
       "      <th>100.0 %</th>\n",
       "      <th>ner_model</th>\n",
       "      <td>0.911</td>\n",
       "      <td>0.51</td>\n",
       "      <td>0.654</td>\n",
       "      <td></td>\n",
       "      <td></td>\n",
       "      <td></td>\n",
       "      <td>0.871</td>\n",
       "      <td>0.642</td>\n",
       "      <td>0.74</td>\n",
       "    </tr>\n",
       "  </tbody>\n",
       "</table>\n",
       "</div>"
      ],
      "text/plain": [
       "                      tok_precision  tok_recall  tok_f1 tok_cee tok_acc  \\\n",
       "proportion model                                                          \n",
       "100.0 %    ner_model          0.911        0.51   0.654                   \n",
       "\n",
       "                     coverage  ent_precision  ent_recall  ent_f1  \n",
       "proportion model                                                  \n",
       "100.0 %    ner_model                   0.871       0.642    0.74  "
      ]
     },
     "metadata": {},
     "output_type": "display_data"
    }
   ],
   "source": [
    "gold_docs_dev_eval = list(DocBin().from_disk('data/molecular/gold_dev.spacy').get_docs(nlp.vocab))\n",
    "\n",
    "print_metrics(gold_docs_dev_eval, is_test=False)"
   ]
  },
  {
   "cell_type": "markdown",
   "id": "8c25322e-327f-4050-8d7c-ef4042170b6e",
   "metadata": {},
   "source": [
    "## Test Set Evaluation"
   ]
  },
  {
   "cell_type": "code",
   "execution_count": 70,
   "id": "631cbb84-3c39-4281-9160-5029493a23a7",
   "metadata": {},
   "outputs": [
    {
     "data": {
      "text/markdown": [
       "__Labeling Function / HMM performance__"
      ],
      "text/plain": [
       "<IPython.core.display.Markdown object>"
      ]
     },
     "metadata": {},
     "output_type": "display_data"
    },
    {
     "name": "stderr",
     "output_type": "stream",
     "text": [
      "100%|███████████████████████████████████████████████████████████████████████████████████████████████████| 1000/1000 [00:10<00:00, 97.26it/s]\n"
     ]
    },
    {
     "data": {
      "text/html": [
       "<div>\n",
       "<style scoped>\n",
       "    .dataframe tbody tr th:only-of-type {\n",
       "        vertical-align: middle;\n",
       "    }\n",
       "\n",
       "    .dataframe tbody tr th {\n",
       "        vertical-align: top;\n",
       "    }\n",
       "\n",
       "    .dataframe thead th {\n",
       "        text-align: right;\n",
       "    }\n",
       "</style>\n",
       "<table border=\"1\" class=\"dataframe\">\n",
       "  <thead>\n",
       "    <tr style=\"text-align: right;\">\n",
       "      <th></th>\n",
       "      <th></th>\n",
       "      <th>tok_precision</th>\n",
       "      <th>tok_recall</th>\n",
       "      <th>tok_f1</th>\n",
       "      <th>tok_cee</th>\n",
       "      <th>tok_acc</th>\n",
       "      <th>coverage</th>\n",
       "      <th>ent_precision</th>\n",
       "      <th>ent_recall</th>\n",
       "      <th>ent_f1</th>\n",
       "    </tr>\n",
       "    <tr>\n",
       "      <th>proportion</th>\n",
       "      <th>model</th>\n",
       "      <th></th>\n",
       "      <th></th>\n",
       "      <th></th>\n",
       "      <th></th>\n",
       "      <th></th>\n",
       "      <th></th>\n",
       "      <th></th>\n",
       "      <th></th>\n",
       "      <th></th>\n",
       "    </tr>\n",
       "  </thead>\n",
       "  <tbody>\n",
       "    <tr>\n",
       "      <th rowspan=\"5\" valign=\"top\">100.0 %</th>\n",
       "      <th>construct</th>\n",
       "      <td>0.853</td>\n",
       "      <td>0.190</td>\n",
       "      <td>0.310</td>\n",
       "      <td></td>\n",
       "      <td></td>\n",
       "      <td></td>\n",
       "      <td>0.836</td>\n",
       "      <td>0.280</td>\n",
       "      <td>0.420</td>\n",
       "    </tr>\n",
       "    <tr>\n",
       "      <th>cue_civic</th>\n",
       "      <td>0.934</td>\n",
       "      <td>0.354</td>\n",
       "      <td>0.514</td>\n",
       "      <td></td>\n",
       "      <td></td>\n",
       "      <td></td>\n",
       "      <td>0.843</td>\n",
       "      <td>0.478</td>\n",
       "      <td>0.610</td>\n",
       "    </tr>\n",
       "    <tr>\n",
       "      <th>cue_cosmic_census</th>\n",
       "      <td>0.927</td>\n",
       "      <td>0.342</td>\n",
       "      <td>0.500</td>\n",
       "      <td></td>\n",
       "      <td></td>\n",
       "      <td></td>\n",
       "      <td>0.854</td>\n",
       "      <td>0.473</td>\n",
       "      <td>0.608</td>\n",
       "    </tr>\n",
       "    <tr>\n",
       "      <th>hmm</th>\n",
       "      <td>0.856</td>\n",
       "      <td>0.400</td>\n",
       "      <td>0.546</td>\n",
       "      <td></td>\n",
       "      <td></td>\n",
       "      <td></td>\n",
       "      <td>0.782</td>\n",
       "      <td>0.548</td>\n",
       "      <td>0.644</td>\n",
       "    </tr>\n",
       "    <tr>\n",
       "      <th>omim</th>\n",
       "      <td>0.904</td>\n",
       "      <td>0.363</td>\n",
       "      <td>0.518</td>\n",
       "      <td></td>\n",
       "      <td></td>\n",
       "      <td></td>\n",
       "      <td>0.818</td>\n",
       "      <td>0.493</td>\n",
       "      <td>0.616</td>\n",
       "    </tr>\n",
       "  </tbody>\n",
       "</table>\n",
       "</div>"
      ],
      "text/plain": [
       "                              tok_precision  tok_recall  tok_f1 tok_cee  \\\n",
       "proportion model                                                          \n",
       "100.0 %    construct                  0.853       0.190   0.310           \n",
       "           cue_civic                  0.934       0.354   0.514           \n",
       "           cue_cosmic_census          0.927       0.342   0.500           \n",
       "           hmm                        0.856       0.400   0.546           \n",
       "           omim                       0.904       0.363   0.518           \n",
       "\n",
       "                             tok_acc coverage  ent_precision  ent_recall  \\\n",
       "proportion model                                                           \n",
       "100.0 %    construct                                   0.836       0.280   \n",
       "           cue_civic                                   0.843       0.478   \n",
       "           cue_cosmic_census                           0.854       0.473   \n",
       "           hmm                                         0.782       0.548   \n",
       "           omim                                        0.818       0.493   \n",
       "\n",
       "                              ent_f1  \n",
       "proportion model                      \n",
       "100.0 %    construct           0.420  \n",
       "           cue_civic           0.610  \n",
       "           cue_cosmic_census   0.608  \n",
       "           hmm                 0.644  \n",
       "           omim                0.616  "
      ]
     },
     "metadata": {},
     "output_type": "display_data"
    },
    {
     "data": {
      "text/markdown": [
       "__Weak NER Performance__"
      ],
      "text/plain": [
       "<IPython.core.display.Markdown object>"
      ]
     },
     "metadata": {},
     "output_type": "display_data"
    },
    {
     "name": "stderr",
     "output_type": "stream",
     "text": [
      "100%|███████████████████████████████████████████████████████████████████████████████████████████████████▉| 999/1000 [00:34<00:00, 29.27it/s]\n"
     ]
    },
    {
     "data": {
      "text/html": [
       "<div>\n",
       "<style scoped>\n",
       "    .dataframe tbody tr th:only-of-type {\n",
       "        vertical-align: middle;\n",
       "    }\n",
       "\n",
       "    .dataframe tbody tr th {\n",
       "        vertical-align: top;\n",
       "    }\n",
       "\n",
       "    .dataframe thead th {\n",
       "        text-align: right;\n",
       "    }\n",
       "</style>\n",
       "<table border=\"1\" class=\"dataframe\">\n",
       "  <thead>\n",
       "    <tr style=\"text-align: right;\">\n",
       "      <th></th>\n",
       "      <th></th>\n",
       "      <th>tok_precision</th>\n",
       "      <th>tok_recall</th>\n",
       "      <th>tok_f1</th>\n",
       "      <th>tok_cee</th>\n",
       "      <th>tok_acc</th>\n",
       "      <th>coverage</th>\n",
       "      <th>ent_precision</th>\n",
       "      <th>ent_recall</th>\n",
       "      <th>ent_f1</th>\n",
       "    </tr>\n",
       "    <tr>\n",
       "      <th>proportion</th>\n",
       "      <th>model</th>\n",
       "      <th></th>\n",
       "      <th></th>\n",
       "      <th></th>\n",
       "      <th></th>\n",
       "      <th></th>\n",
       "      <th></th>\n",
       "      <th></th>\n",
       "      <th></th>\n",
       "      <th></th>\n",
       "    </tr>\n",
       "  </thead>\n",
       "  <tbody>\n",
       "    <tr>\n",
       "      <th>100.0 %</th>\n",
       "      <th>ner_model</th>\n",
       "      <td>0.884</td>\n",
       "      <td>0.438</td>\n",
       "      <td>0.586</td>\n",
       "      <td></td>\n",
       "      <td></td>\n",
       "      <td></td>\n",
       "      <td>0.795</td>\n",
       "      <td>0.591</td>\n",
       "      <td>0.678</td>\n",
       "    </tr>\n",
       "  </tbody>\n",
       "</table>\n",
       "</div>"
      ],
      "text/plain": [
       "                      tok_precision  tok_recall  tok_f1 tok_cee tok_acc  \\\n",
       "proportion model                                                          \n",
       "100.0 %    ner_model          0.884       0.438   0.586                   \n",
       "\n",
       "                     coverage  ent_precision  ent_recall  ent_f1  \n",
       "proportion model                                                  \n",
       "100.0 %    ner_model                   0.795       0.591   0.678  "
      ]
     },
     "metadata": {},
     "output_type": "display_data"
    },
    {
     "data": {
      "text/markdown": [
       "__Strong NER Performance__"
      ],
      "text/plain": [
       "<IPython.core.display.Markdown object>"
      ]
     },
     "metadata": {},
     "output_type": "display_data"
    },
    {
     "name": "stderr",
     "output_type": "stream",
     "text": [
      "100%|███████████████████████████████████████████████████████████████████████████████████████████████████▉| 999/1000 [00:35<00:00, 27.91it/s]\n"
     ]
    },
    {
     "data": {
      "text/html": [
       "<div>\n",
       "<style scoped>\n",
       "    .dataframe tbody tr th:only-of-type {\n",
       "        vertical-align: middle;\n",
       "    }\n",
       "\n",
       "    .dataframe tbody tr th {\n",
       "        vertical-align: top;\n",
       "    }\n",
       "\n",
       "    .dataframe thead th {\n",
       "        text-align: right;\n",
       "    }\n",
       "</style>\n",
       "<table border=\"1\" class=\"dataframe\">\n",
       "  <thead>\n",
       "    <tr style=\"text-align: right;\">\n",
       "      <th></th>\n",
       "      <th></th>\n",
       "      <th>tok_precision</th>\n",
       "      <th>tok_recall</th>\n",
       "      <th>tok_f1</th>\n",
       "      <th>tok_cee</th>\n",
       "      <th>tok_acc</th>\n",
       "      <th>coverage</th>\n",
       "      <th>ent_precision</th>\n",
       "      <th>ent_recall</th>\n",
       "      <th>ent_f1</th>\n",
       "    </tr>\n",
       "    <tr>\n",
       "      <th>proportion</th>\n",
       "      <th>model</th>\n",
       "      <th></th>\n",
       "      <th></th>\n",
       "      <th></th>\n",
       "      <th></th>\n",
       "      <th></th>\n",
       "      <th></th>\n",
       "      <th></th>\n",
       "      <th></th>\n",
       "      <th></th>\n",
       "    </tr>\n",
       "  </thead>\n",
       "  <tbody>\n",
       "    <tr>\n",
       "      <th>100.0 %</th>\n",
       "      <th>ner_model</th>\n",
       "      <td>0.544</td>\n",
       "      <td>0.694</td>\n",
       "      <td>0.61</td>\n",
       "      <td></td>\n",
       "      <td></td>\n",
       "      <td></td>\n",
       "      <td>0.558</td>\n",
       "      <td>0.758</td>\n",
       "      <td>0.642</td>\n",
       "    </tr>\n",
       "  </tbody>\n",
       "</table>\n",
       "</div>"
      ],
      "text/plain": [
       "                      tok_precision  tok_recall  tok_f1 tok_cee tok_acc  \\\n",
       "proportion model                                                          \n",
       "100.0 %    ner_model          0.544       0.694    0.61                   \n",
       "\n",
       "                     coverage  ent_precision  ent_recall  ent_f1  \n",
       "proportion model                                                  \n",
       "100.0 %    ner_model                   0.558       0.758   0.642  "
      ]
     },
     "metadata": {},
     "output_type": "display_data"
    }
   ],
   "source": [
    "gold_docs_test_eval = list(DocBin().from_disk('data/molecular/gold_test.spacy').get_docs(nlp.vocab))\n",
    "\n",
    "print_metrics(gold_docs_test_eval, is_test=True)"
   ]
  },
  {
   "cell_type": "code",
   "execution_count": null,
   "id": "28842157-5362-4368-9909-b0c5b26fc677",
   "metadata": {},
   "outputs": [],
   "source": []
  }
 ],
 "metadata": {
  "kernelspec": {
   "display_name": "Python [conda env:ggponc]",
   "language": "python",
   "name": "conda-env-ggponc-py"
  },
  "language_info": {
   "codemirror_mode": {
    "name": "ipython",
    "version": 3
   },
   "file_extension": ".py",
   "mimetype": "text/x-python",
   "name": "python",
   "nbconvert_exporter": "python",
   "pygments_lexer": "ipython3",
   "version": "3.8.0"
  }
 },
 "nbformat": 4,
 "nbformat_minor": 5
}
