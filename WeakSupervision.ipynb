{
 "cells": [
  {
   "cell_type": "markdown",
   "id": "1c5c3dbc-7e8d-47eb-8c78-591c4edc2347",
   "metadata": {},
   "source": [
    "##  GGTWEAK - German Gene Tagging with Weak Supervision\n",
    "\n",
    "Obtaining a sufficient amount of high-quality training data is one of the crucial points and most formidable challenges in deep learning-based natural language processing. In this work, we present GGTWEAK (German Gene Tagging with Weak Supervision). In conventional settings all data must be labelled manually while complexity often does not allow for the involvement of non-experts for this laborious and thus costly task. This is especially true for molecular data, which is hard to discriminate from common abbreviations syntactically. Therefore, GGTWEAK provides a baseline bridging the gap between English gene taggers and models usable for German. GGTWEAK saves human resources compared to its English counterparts and potentially can be trained for free after development on available data. \n",
    "We design labelling functions based on the structure of gene naming conventions and databases from both the medical and general domain. Following that, we train a hidden Markov model for label aggregration. Based on our weakly labelled data, we finally train a German BERT model for named entity recognition. This weak supervision approach for gene labelling in the German language leverages the skweak framework achieving an entity-level F1 score of 60.4% on our test set, while dealing with a highly unbalanced data from the German Guideline Program in Oncology NLP Corpus. The NER model trained on the same development dataset with quantitatively less strong labels achieved 53.9%."
   ]
  },
  {
   "cell_type": "code",
   "execution_count": 1,
   "id": "bb5a326a-91b3-4057-af63-82389654e86c",
   "metadata": {},
   "outputs": [],
   "source": [
    "import re\n",
    "import pandas as pd\n",
    "import numpy as np\n",
    "from pathlib import Path\n",
    "from tqdm import tqdm\n",
    "\n",
    "import nltk\n",
    "from nltk.corpus import stopwords\n",
    "\n",
    "import spacy\n",
    "from spacy.tokens import Span, DocBin\n",
    "from spacy_transformers import Transformer\n",
    "from spacy_transformers.pipeline_component import DEFAULT_CONFIG\n",
    "\n",
    "from skweak import heuristics, gazetteers, generative, utils, base\n",
    "from skweak.base import SpanAnnotator\n",
    "from skweak.heuristics import SpanEditorAnnotator, VicinityAnnotator, SpanConstraintAnnotator\n",
    "from skweak.analysis import LFAnalysis\n",
    "\n",
    "import sklearn.metrics\n",
    "\n",
    "from evaluation import evaluate, get_results, compute_raw_numbers, _get_probs, show_errors"
   ]
  },
  {
   "cell_type": "code",
   "execution_count": 2,
   "id": "9ca0dedc-eb7c-4e0d-96e0-e49f9ffee692",
   "metadata": {},
   "outputs": [],
   "source": [
    "stops = set(stopwords.words('german'))"
   ]
  },
  {
   "cell_type": "markdown",
   "id": "1eeaf50d-2649-437d-83e5-6af3f8927bd0",
   "metadata": {},
   "source": [
    "# Load Data\n"
   ]
  },
  {
   "cell_type": "markdown",
   "id": "2d0d0caf",
   "metadata": {},
   "source": [
    "Here we customize the spaCy tokenizer without statistical model and loading the standard German spaCy model."
   ]
  },
  {
   "cell_type": "code",
   "execution_count": 3,
   "id": "8712ce01-00dd-4afd-af2d-eca3788c264e",
   "metadata": {},
   "outputs": [
    {
     "data": {
      "text/plain": [
       "<spacy.pipeline.sentencizer.Sentencizer at 0x7fc51599f800>"
      ]
     },
     "execution_count": 3,
     "metadata": {},
     "output_type": "execute_result"
    }
   ],
   "source": [
    "nlp = spacy.load('de_core_news_md')\n",
    "infixes = nlp.Defaults.infixes + [r'([-])']\n",
    "nlp.tokenizer.infix_finditer = spacy.util.compile_infix_regex(infixes).finditer\n",
    "nlp.add_pipe('sentencizer')"
   ]
  },
  {
   "cell_type": "markdown",
   "id": "201a60cb",
   "metadata": {},
   "source": [
    "In the following, we construct a dataframe from all sentences in GGPONC and concatenate them. "
   ]
  },
  {
   "cell_type": "code",
   "execution_count": 23,
   "id": "8f14c8ac-efb8-4fe5-8c50-a873f5714833",
   "metadata": {},
   "outputs": [],
   "source": [
    "GGPONC_PATH = 'data/ggponc/plain_text/sentences/all_files_sentences/'"
   ]
  },
  {
   "cell_type": "code",
   "execution_count": 5,
   "id": "0df70ec8",
   "metadata": {},
   "outputs": [
    {
     "data": {
      "text/plain": [
       "10193"
      ]
     },
     "execution_count": 5,
     "metadata": {},
     "output_type": "execute_result"
    }
   ],
   "source": [
    "sentences = list(Path(GGPONC_PATH).glob('*.txt'))\n",
    "len(sentences)"
   ]
  },
  {
   "cell_type": "code",
   "execution_count": 6,
   "id": "3c9a6a59",
   "metadata": {},
   "outputs": [],
   "source": [
    "def get_df(file):\n",
    "    df = pd.read_csv(file, delimiter='\\t', names =['text'] )\n",
    "    df['file'] = file.stem\n",
    "    df['sentence_id'] = df.index\n",
    "    return df"
   ]
  },
  {
   "cell_type": "code",
   "execution_count": 7,
   "id": "6710a0ed",
   "metadata": {},
   "outputs": [],
   "source": [
    "dfs = [get_df(file) for file in sentences]"
   ]
  },
  {
   "cell_type": "code",
   "execution_count": 8,
   "id": "197a0013",
   "metadata": {},
   "outputs": [
    {
     "data": {
      "text/plain": [
       "85996"
      ]
     },
     "execution_count": 8,
     "metadata": {},
     "output_type": "execute_result"
    }
   ],
   "source": [
    "sentence_df = pd.concat(dfs)\n",
    "len(sentence_df)"
   ]
  },
  {
   "cell_type": "markdown",
   "id": "2c2de5a0-9d93-40d9-8ae4-1b855fc8bf7a",
   "metadata": {},
   "source": [
    "Remove files which have been manually annotated from the training dataset"
   ]
  },
  {
   "cell_type": "code",
   "execution_count": 9,
   "id": "2a40c998-3a82-4944-9f77-37217c880bd5",
   "metadata": {},
   "outputs": [
    {
     "data": {
      "text/plain": [
       "138"
      ]
     },
     "execution_count": 9,
     "metadata": {},
     "output_type": "execute_result"
    }
   ],
   "source": [
    "with open('data/molecular/annotated_files.txt') as fh:\n",
    "    annotated_files = [f.replace('.txt', '').strip() for f in fh.readlines()]\n",
    "len(annotated_files)"
   ]
  },
  {
   "cell_type": "code",
   "execution_count": 10,
   "id": "7610f622-ff2b-4d71-9546-a9d41b2389b4",
   "metadata": {},
   "outputs": [
    {
     "data": {
      "text/plain": [
       "83290"
      ]
     },
     "execution_count": 10,
     "metadata": {},
     "output_type": "execute_result"
    }
   ],
   "source": [
    "sentence_df = sentence_df[~sentence_df.file.isin(annotated_files)]\n",
    "len(sentence_df)"
   ]
  },
  {
   "cell_type": "markdown",
   "id": "bae7c442-07f8-4727-a33a-cb84dca20aa4",
   "metadata": {},
   "source": [
    "# Labeling Functions"
   ]
  },
  {
   "cell_type": "markdown",
   "id": "0c52fdfc",
   "metadata": {},
   "source": [
    "The Clinical Interpretation of Variants in Cancer (CIViC) database is an opensource, open-access knowledgebase curated by experts on therapeutic, prognostic, diagnostic and predisposing relevance of inherited and somatic variants of every type. Both, genes and variants, are used in this project."
   ]
  },
  {
   "cell_type": "code",
   "execution_count": 12,
   "id": "09a9d007-e413-4718-8e00-dbe9d1f6ee5c",
   "metadata": {},
   "outputs": [],
   "source": [
    "df = pd.read_csv('data/molecular/nightly-GeneSummaries.tsv', sep='\\t')\n",
    "CIVIC_genes = df['name'].tolist()\n",
    "CIVIC_genes_lower = [c.lower() for c in CIVIC_genes]"
   ]
  },
  {
   "cell_type": "code",
   "execution_count": 13,
   "id": "34c3d555",
   "metadata": {},
   "outputs": [
    {
     "name": "stderr",
     "output_type": "stream",
     "text": [
      "Skipping line 13: expected 29 fields, saw 33\n",
      "Skipping line 17: expected 29 fields, saw 30\n",
      "Skipping line 31: expected 29 fields, saw 30\n",
      "Skipping line 441: expected 29 fields, saw 30\n",
      "Skipping line 502: expected 29 fields, saw 30\n",
      "Skipping line 553: expected 29 fields, saw 31\n",
      "\n"
     ]
    }
   ],
   "source": [
    "df = pd.read_csv('data/molecular/nightly-VariantSummaries.tsv', sep='\\t', error_bad_lines=False )\n",
    "CIVIC_variants = df['variant'].tolist()\n",
    "CIVIC_variants_lower = [c.lower() for c in CIVIC_variants]"
   ]
  },
  {
   "cell_type": "markdown",
   "id": "52b9bd79",
   "metadata": {},
   "source": [
    "\"cue_civic\" is based on the CIViC database. If a token contains a gene which is listed in the database, this and the next token are labelled a gene. This way, we do not restrict the function to a 100 percent match but leave it some leeway."
   ]
  },
  {
   "cell_type": "code",
   "execution_count": 14,
   "id": "912fc8c4",
   "metadata": {},
   "outputs": [],
   "source": [
    "def civic(doc):\n",
    "    for tok in doc:\n",
    "        for cue in CIVIC_genes:\n",
    "            if tok.text.find(cue) == -1:\n",
    "                continue\n",
    "            else:\n",
    "                yield tok.i, tok.i+1, \"Gene or Protein\"\n",
    "cue_civic = heuristics.FunctionAnnotator(\"cue_civic\", civic)"
   ]
  },
  {
   "cell_type": "markdown",
   "id": "a3d4ba0a",
   "metadata": {},
   "source": [
    "The Online Mendelian Inheritance in Man (OMIM) database is the encyclopedic collection of the human medical branch of genetics."
   ]
  },
  {
   "cell_type": "code",
   "execution_count": 15,
   "id": "3b2354cf",
   "metadata": {},
   "outputs": [
    {
     "name": "stdout",
     "output_type": "stream",
     "text": [
      "16767\n"
     ]
    }
   ],
   "source": [
    "omim_list = pd.read_csv(\"data/molecular/mim2gene.csv\")\n",
    "omim_list = omim_list['name'].tolist()\n",
    "omim_list_lower = [o.lower() for o in omim_list]\n",
    "short_genes = []\n",
    "for u in omim_list:\n",
    "    if len(u)<3:\n",
    "        short_genes.append(u)\n",
    "less_short_genes = []\n",
    "for u in omim_list:\n",
    "    if len(u)<5 and len(u)>2:\n",
    "        less_short_genes.append(u)\n",
    "print(len(omim_list))"
   ]
  },
  {
   "cell_type": "markdown",
   "id": "35a2989a",
   "metadata": {},
   "source": [
    "\"omim\" is based on the OMIM database and checks whether tokens are present in its list of 16,767 approved gene symbols in lowercase as the diversity of genes often shows in volatile capitalization. To increase precision, genes with a length shorter than three characters are matched only correctly cased."
   ]
  },
  {
   "cell_type": "code",
   "execution_count": 16,
   "id": "e6813e7a-8d36-4da2-9749-9c9b6ffc6d0f",
   "metadata": {},
   "outputs": [],
   "source": [
    "def omim(doc):\n",
    "    for tok in doc:\n",
    "        if tok.text.lower() in omim_list_lower and tok.text.lower() not in stops and len(tok.text.lower())>=3:\n",
    "            yield tok.i, tok.i+1, \"Gene or Protein\"\n",
    "omim = heuristics.FunctionAnnotator(\"omim\", omim) "
   ]
  },
  {
   "cell_type": "markdown",
   "id": "4769cf3d",
   "metadata": {},
   "source": [
    "The Catalogue of Somatic Mutations in Cancer (COSMIC) database harbors somatic cell mutations and additional information associated with cancer in humans."
   ]
  },
  {
   "cell_type": "code",
   "execution_count": 17,
   "id": "faecaa97",
   "metadata": {},
   "outputs": [],
   "source": [
    "cosmic_census = pd.read_csv(\"data/molecular/cancer_gene_census.csv\")\n",
    "cosmic_census = cosmic_census['Gene Symbol'].tolist()\n",
    "cosmic_census_lower = [c.lower() for c in cosmic_census]"
   ]
  },
  {
   "cell_type": "markdown",
   "id": "4f3983b3",
   "metadata": {},
   "source": [
    "\"cue_cosmic_census\" is based on the COSMIC database. If a token contains a gene symbol which is listed here, this token and its successor are annotated as a gene."
   ]
  },
  {
   "cell_type": "code",
   "execution_count": 18,
   "id": "60fe7a41",
   "metadata": {},
   "outputs": [],
   "source": [
    "def cosmic(doc):\n",
    "    for tok in doc:\n",
    "        for cue in cosmic_census:\n",
    "            if tok.text.find(cue) == -1:\n",
    "                continue\n",
    "            else:\n",
    "                yield tok.i, tok.i+1, \"Gene or Protein\"\n",
    "cue_cosmic_census = heuristics.FunctionAnnotator(\"cue_cosmic_census\", cosmic)  "
   ]
  },
  {
   "cell_type": "markdown",
   "id": "68e52e0a",
   "metadata": {},
   "source": [
    "\"construct\" is based on the Human Genome Organization (HUGO) Gene Nomenclature Committee (HGNC) naming conventions for genes and leverages regular expressions to let the annotator abide by them. Those expressions comprise various combinations of letters and numbers and certain fixed terms for shorter terms to avoid underfitting. In addition, the CIViC database for variants has also been included for a better recall."
   ]
  },
  {
   "cell_type": "code",
   "execution_count": 19,
   "id": "653ed53d",
   "metadata": {},
   "outputs": [],
   "source": [
    "def structure(doc):\n",
    "    for tok in doc:\n",
    "        if bool(re.search(r\"[a-zA-Z]{4}\\d{2}\", tok.text))==True or bool(re.search(r\"[a-zA-Z]{5}\\d{1}\", tok.text))==True\\\n",
    "        or bool(re.search(r\"[a-zA-Z]{4}\\d{1}\", tok.text))==True or bool(re.search(r\"[A-Z]{5}\\d{1}\", tok.text))==True\\\n",
    "        or bool(re.search(r\"[A-Z]{5}\\d{2}\", tok.text))==True or bool(re.search(r\"[A-Z]{3}\\d{2}\", tok.text))==True\\\n",
    "        or bool(re.search(r\"[a-zA-Z]{2}\\d{3}[a-zA-Z]{2}\", tok.text))==True or bool(re.search(r\"[a-zA-Z]{1}\\d{3}[a-zA-Z]{1}\", tok.text))==True\\\n",
    "        or bool(re.search(r\"[A-Z]{3}\\d{2}\", tok.text))==True or bool(re.search(r\"[A-Z]{6}\\d{1}\", tok.text))==True\\\n",
    "        or bool(re.search(r\"[A-Z]{3}\\d{3}\", tok.text))==True or bool(re.search(r\"[p]\\d{2}\", tok.text))==True\\\n",
    "        or bool(re.search(r\"CYP[a-zA-Z0-9]{3}\", tok.text))==True or bool(re.search(r\"CYP[a-zA-Z0-9]{2}\", tok.text))==True\\\n",
    "        or bool(re.search(r\"[A-Z]{3}\\d{1}\", tok.text))==True or bool(re.search(r\"[A-Z]{2}\\d{2}\", tok.text))==True\\\n",
    "        or bool(re.search(r\"^CK.\", tok.text))==True or bool(re.search(r\"^PD-..\", tok.text))==True or bool(re.search(r\"^PS[MA|A]\", tok.text))==True or tok.text.lower in CIVIC_variants_lower:\n",
    "            yield tok.i, tok.i+1, \"Gene or Protein\"\n",
    "construct = heuristics.FunctionAnnotator(\"construct\", structure)"
   ]
  },
  {
   "cell_type": "code",
   "execution_count": 20,
   "id": "c4aed24b-34e9-48b9-b4fa-927ceb9172a8",
   "metadata": {},
   "outputs": [
    {
     "name": "stdout",
     "output_type": "stream",
     "text": [
      "249\n",
      "16784\n"
     ]
    }
   ],
   "source": [
    "# Calculate data stats (number of genes, sentences, etc...) -> Table for Materials\n",
    "# Intersections of the gazetteers are calculated below.\n",
    "intersection_db = list(set(cosmic_census_lower) & set(CIVIC_genes_lower) & set(omim_list_lower))\n",
    "union_db = set(set(cosmic_census_lower).union(set(CIVIC_genes_lower)).union(set(omim_list_lower)))\n",
    "print(len(intersection_db))\n",
    "print(len(union_db))"
   ]
  },
  {
   "cell_type": "markdown",
   "id": "aa06edd0",
   "metadata": {},
   "source": [
    "We define a list of labelling functions which we want to deploy onto our textual input. Every row in our dataframe is subject to examination. Those listed here was the best performing allocation from ca. 30 labelling functions."
   ]
  },
  {
   "cell_type": "code",
   "execution_count": 22,
   "id": "d9bc3aae-f3c3-4d76-93f1-ea2b44d8e9f9",
   "metadata": {},
   "outputs": [
    {
     "name": "stdout",
     "output_type": "stream",
     "text": [
      "0/83290\n",
      "1000/83290\n",
      "2000/83290\n",
      "3000/83290\n",
      "4000/83290\n",
      "5000/83290\n",
      "6000/83290\n",
      "7000/83290\n",
      "8000/83290\n",
      "9000/83290\n",
      "10000/83290\n",
      "11000/83290\n",
      "12000/83290\n",
      "13000/83290\n",
      "14000/83290\n",
      "15000/83290\n",
      "16000/83290\n",
      "17000/83290\n",
      "18000/83290\n",
      "19000/83290\n",
      "20000/83290\n",
      "21000/83290\n",
      "22000/83290\n",
      "23000/83290\n",
      "24000/83290\n",
      "25000/83290\n",
      "26000/83290\n",
      "27000/83290\n",
      "28000/83290\n",
      "29000/83290\n",
      "30000/83290\n",
      "31000/83290\n",
      "32000/83290\n",
      "33000/83290\n",
      "34000/83290\n",
      "35000/83290\n",
      "36000/83290\n",
      "37000/83290\n",
      "38000/83290\n",
      "39000/83290\n",
      "40000/83290\n",
      "41000/83290\n",
      "42000/83290\n",
      "43000/83290\n",
      "44000/83290\n",
      "45000/83290\n",
      "46000/83290\n",
      "47000/83290\n",
      "48000/83290\n",
      "49000/83290\n",
      "50000/83290\n",
      "51000/83290\n",
      "52000/83290\n",
      "53000/83290\n",
      "54000/83290\n",
      "55000/83290\n",
      "56000/83290\n",
      "57000/83290\n",
      "58000/83290\n",
      "59000/83290\n",
      "60000/83290\n",
      "61000/83290\n",
      "62000/83290\n",
      "63000/83290\n",
      "64000/83290\n",
      "65000/83290\n",
      "66000/83290\n",
      "67000/83290\n",
      "68000/83290\n",
      "69000/83290\n",
      "70000/83290\n",
      "71000/83290\n",
      "72000/83290\n",
      "73000/83290\n",
      "74000/83290\n",
      "75000/83290\n",
      "76000/83290\n",
      "77000/83290\n",
      "78000/83290\n",
      "79000/83290\n",
      "80000/83290\n",
      "81000/83290\n",
      "82000/83290\n",
      "83000/83290\n"
     ]
    }
   ],
   "source": [
    "lfs = [construct, cue_civic, omim, cue_cosmic_census]\n",
    "\n",
    "#For Quick Run with Random Sentences!\n",
    "#random_files = files_df.sample(n = 10000)\n",
    "docs = []\n",
    "\n",
    "for sentence_idx, doc in zip(sentence_df.reset_index().iterrows(), nlp.pipe(sentence_df.text, batch_size=32,disable=[\"tok2vec\", \"tagger\", \"parser\", \"attribute_ruler\", \"lemmatizer\",\\\n",
    "                                                                                             'morphologizer', 'ner'])):\n",
    "    i, row = sentence_idx\n",
    "    for lf in lfs:\n",
    "        doc = lf(doc)\n",
    "    docs.append(doc)\n",
    "    if i % 1000 == 0:\n",
    "        print(f'{i}/{len(sentence_df)}')"
   ]
  },
  {
   "cell_type": "markdown",
   "id": "e9eeb61a-975b-43bf-9a30-4d7d3bc40b65",
   "metadata": {},
   "source": [
    "# Label Aggregation"
   ]
  },
  {
   "cell_type": "code",
   "execution_count": 24,
   "id": "cf2dd2ea-50b3-4a17-8905-30545b57a78b",
   "metadata": {},
   "outputs": [
    {
     "name": "stdout",
     "output_type": "stream",
     "text": [
      "Starting iteration 1\n",
      "Number of processed documents: 1000\n",
      "Number of processed documents: 2000\n",
      "Number of processed documents: 3000\n",
      "Finished E-step with 3861 documents\n",
      "Starting iteration 2\n"
     ]
    },
    {
     "name": "stderr",
     "output_type": "stream",
     "text": [
      "         1      -23574.4098             +nan\n"
     ]
    },
    {
     "name": "stdout",
     "output_type": "stream",
     "text": [
      "Number of processed documents: 1000\n",
      "Number of processed documents: 2000\n",
      "Number of processed documents: 3000\n",
      "Finished E-step with 3861 documents\n",
      "Starting iteration 3\n"
     ]
    },
    {
     "name": "stderr",
     "output_type": "stream",
     "text": [
      "         2      -23012.0902        +562.3196\n"
     ]
    },
    {
     "name": "stdout",
     "output_type": "stream",
     "text": [
      "Number of processed documents: 1000\n",
      "Number of processed documents: 2000\n",
      "Number of processed documents: 3000\n",
      "Finished E-step with 3861 documents\n",
      "Starting iteration 4\n"
     ]
    },
    {
     "name": "stderr",
     "output_type": "stream",
     "text": [
      "         3      -23002.5389          +9.5513\n"
     ]
    },
    {
     "name": "stdout",
     "output_type": "stream",
     "text": [
      "Number of processed documents: 1000\n",
      "Number of processed documents: 2000\n",
      "Number of processed documents: 3000\n",
      "Finished E-step with 3861 documents\n"
     ]
    },
    {
     "name": "stderr",
     "output_type": "stream",
     "text": [
      "         4      -23000.8700          +1.6689\n"
     ]
    }
   ],
   "source": [
    "# Training of HMM and Majority Voter\n",
    "#voter = skweak.voting.SequentialMajorityVoter(\"maj_voter\", labels=[\"Gen\"])\n",
    "#voter.fit(docs)\n",
    "hmm = generative.HMM(\"hmm\", [\"Gene or Protein\"])\n",
    "hmm.fit(docs)"
   ]
  },
  {
   "cell_type": "markdown",
   "id": "f5eba3bb-32a7-4cca-8f53-f62c00306a74",
   "metadata": {},
   "source": [
    "# TODO: try to filter files with no LF annotations to make distribution closer to dev / test"
   ]
  },
  {
   "cell_type": "code",
   "execution_count": 25,
   "id": "00c04eb3-5190-4b49-80a1-457e98e1fa70",
   "metadata": {},
   "outputs": [
    {
     "name": "stdout",
     "output_type": "stream",
     "text": [
      "Write to output/training.spacy...done\n"
     ]
    }
   ],
   "source": [
    "for d in docs:\n",
    "    d = hmm(d)\n",
    "    d.ents = d.spans[\"hmm\"]\n",
    "    \n",
    "utils.docbin_writer(docs, \"output/weak_training.spacy\")"
   ]
  },
  {
   "cell_type": "markdown",
   "id": "6e00ac4b-8333-44bf-9274-ab6734810bbb",
   "metadata": {},
   "source": [
    "# Labeling Function Analysis"
   ]
  },
  {
   "cell_type": "code",
   "execution_count": 27,
   "id": "595183ba-63b3-4ca7-8870-2647745676d4",
   "metadata": {},
   "outputs": [],
   "source": [
    "gold_docs_dev = list(DocBin().from_disk('data/molecular/gold_dev.spacy').get_docs(nlp.vocab))"
   ]
  },
  {
   "cell_type": "markdown",
   "id": "8764f34a",
   "metadata": {},
   "source": [
    "Our labeling functions must also be deployed onto the gold standard data to evaluate strong supervision against weak supervision."
   ]
  },
  {
   "cell_type": "code",
   "execution_count": 28,
   "id": "97cce16c-4d79-4dc8-83dd-c54f60795f67",
   "metadata": {},
   "outputs": [],
   "source": [
    "def apply_hmm(gold_docs):\n",
    "    for g in tqdm(gold_docs):\n",
    "        if 'Gene or Protein' in g.spans:\n",
    "            del g.spans['Gene or Protein']\n",
    "        for lf in lfs:\n",
    "            g = lf(g)\n",
    "        g = hmm(g)"
   ]
  },
  {
   "cell_type": "code",
   "execution_count": 29,
   "id": "2113b209",
   "metadata": {},
   "outputs": [
    {
     "name": "stderr",
     "output_type": "stream",
     "text": [
      "100%|███████████████████████████████████████████████████████████████████████████████████████████████████| 1095/1095 [00:11<00:00, 93.72it/s]\n"
     ]
    }
   ],
   "source": [
    "apply_hmm(gold_docs_dev)"
   ]
  },
  {
   "cell_type": "code",
   "execution_count": 30,
   "id": "f79a91a8",
   "metadata": {},
   "outputs": [
    {
     "data": {
      "text/html": [
       "<div>\n",
       "<style scoped>\n",
       "    .dataframe tbody tr th:only-of-type {\n",
       "        vertical-align: middle;\n",
       "    }\n",
       "\n",
       "    .dataframe tbody tr th {\n",
       "        vertical-align: top;\n",
       "    }\n",
       "\n",
       "    .dataframe thead th {\n",
       "        text-align: right;\n",
       "    }\n",
       "</style>\n",
       "<table border=\"1\" class=\"dataframe\">\n",
       "  <thead>\n",
       "    <tr style=\"text-align: right;\">\n",
       "      <th></th>\n",
       "      <th></th>\n",
       "      <th></th>\n",
       "      <th>tok_precision</th>\n",
       "      <th>tok_recall</th>\n",
       "      <th>tok_f1</th>\n",
       "      <th>tok_cee</th>\n",
       "      <th>tok_acc</th>\n",
       "      <th>coverage</th>\n",
       "      <th>ent_precision</th>\n",
       "      <th>ent_recall</th>\n",
       "      <th>ent_f1</th>\n",
       "    </tr>\n",
       "    <tr>\n",
       "      <th>label</th>\n",
       "      <th>proportion</th>\n",
       "      <th>model</th>\n",
       "      <th></th>\n",
       "      <th></th>\n",
       "      <th></th>\n",
       "      <th></th>\n",
       "      <th></th>\n",
       "      <th></th>\n",
       "      <th></th>\n",
       "      <th></th>\n",
       "      <th></th>\n",
       "    </tr>\n",
       "  </thead>\n",
       "  <tbody>\n",
       "    <tr>\n",
       "      <th rowspan=\"5\" valign=\"top\">Gene or Protein</th>\n",
       "      <th rowspan=\"5\" valign=\"top\">100.0 %</th>\n",
       "      <th>construct</th>\n",
       "      <td>0.887</td>\n",
       "      <td>0.303</td>\n",
       "      <td>0.452</td>\n",
       "      <td></td>\n",
       "      <td></td>\n",
       "      <td></td>\n",
       "      <td>0.831</td>\n",
       "      <td>0.435</td>\n",
       "      <td>0.572</td>\n",
       "    </tr>\n",
       "    <tr>\n",
       "      <th>cue_civic</th>\n",
       "      <td>0.957</td>\n",
       "      <td>0.284</td>\n",
       "      <td>0.438</td>\n",
       "      <td></td>\n",
       "      <td></td>\n",
       "      <td></td>\n",
       "      <td>0.892</td>\n",
       "      <td>0.405</td>\n",
       "      <td>0.558</td>\n",
       "    </tr>\n",
       "    <tr>\n",
       "      <th>cue_cosmic_census</th>\n",
       "      <td>0.971</td>\n",
       "      <td>0.270</td>\n",
       "      <td>0.422</td>\n",
       "      <td></td>\n",
       "      <td></td>\n",
       "      <td></td>\n",
       "      <td>0.913</td>\n",
       "      <td>0.388</td>\n",
       "      <td>0.544</td>\n",
       "    </tr>\n",
       "    <tr>\n",
       "      <th>hmm</th>\n",
       "      <td>0.875</td>\n",
       "      <td>0.404</td>\n",
       "      <td>0.552</td>\n",
       "      <td></td>\n",
       "      <td></td>\n",
       "      <td></td>\n",
       "      <td>0.823</td>\n",
       "      <td>0.582</td>\n",
       "      <td>0.682</td>\n",
       "    </tr>\n",
       "    <tr>\n",
       "      <th>omim</th>\n",
       "      <td>0.943</td>\n",
       "      <td>0.321</td>\n",
       "      <td>0.478</td>\n",
       "      <td></td>\n",
       "      <td></td>\n",
       "      <td></td>\n",
       "      <td>0.887</td>\n",
       "      <td>0.462</td>\n",
       "      <td>0.608</td>\n",
       "    </tr>\n",
       "    <tr>\n",
       "      <th rowspan=\"5\" valign=\"top\">macro</th>\n",
       "      <th rowspan=\"5\" valign=\"top\"></th>\n",
       "      <th>construct</th>\n",
       "      <td>0.887</td>\n",
       "      <td>0.303</td>\n",
       "      <td>0.452</td>\n",
       "      <td></td>\n",
       "      <td></td>\n",
       "      <td></td>\n",
       "      <td>0.831</td>\n",
       "      <td>0.435</td>\n",
       "      <td>0.572</td>\n",
       "    </tr>\n",
       "    <tr>\n",
       "      <th>cue_civic</th>\n",
       "      <td>0.957</td>\n",
       "      <td>0.284</td>\n",
       "      <td>0.438</td>\n",
       "      <td></td>\n",
       "      <td></td>\n",
       "      <td></td>\n",
       "      <td>0.892</td>\n",
       "      <td>0.405</td>\n",
       "      <td>0.558</td>\n",
       "    </tr>\n",
       "    <tr>\n",
       "      <th>cue_cosmic_census</th>\n",
       "      <td>0.971</td>\n",
       "      <td>0.270</td>\n",
       "      <td>0.422</td>\n",
       "      <td></td>\n",
       "      <td></td>\n",
       "      <td></td>\n",
       "      <td>0.913</td>\n",
       "      <td>0.388</td>\n",
       "      <td>0.544</td>\n",
       "    </tr>\n",
       "    <tr>\n",
       "      <th>hmm</th>\n",
       "      <td>0.875</td>\n",
       "      <td>0.404</td>\n",
       "      <td>0.552</td>\n",
       "      <td></td>\n",
       "      <td></td>\n",
       "      <td></td>\n",
       "      <td>0.823</td>\n",
       "      <td>0.582</td>\n",
       "      <td>0.682</td>\n",
       "    </tr>\n",
       "    <tr>\n",
       "      <th>omim</th>\n",
       "      <td>0.943</td>\n",
       "      <td>0.321</td>\n",
       "      <td>0.478</td>\n",
       "      <td></td>\n",
       "      <td></td>\n",
       "      <td></td>\n",
       "      <td>0.887</td>\n",
       "      <td>0.462</td>\n",
       "      <td>0.608</td>\n",
       "    </tr>\n",
       "    <tr>\n",
       "      <th rowspan=\"5\" valign=\"top\">micro</th>\n",
       "      <th rowspan=\"5\" valign=\"top\"></th>\n",
       "      <th>construct</th>\n",
       "      <td>0.887</td>\n",
       "      <td>0.303</td>\n",
       "      <td>0.452</td>\n",
       "      <td>0.76</td>\n",
       "      <td>0.978</td>\n",
       "      <td>0.342</td>\n",
       "      <td>0.831</td>\n",
       "      <td>0.435</td>\n",
       "      <td>0.572</td>\n",
       "    </tr>\n",
       "    <tr>\n",
       "      <th>cue_civic</th>\n",
       "      <td>0.957</td>\n",
       "      <td>0.284</td>\n",
       "      <td>0.438</td>\n",
       "      <td>0.76</td>\n",
       "      <td>0.978</td>\n",
       "      <td>0.297</td>\n",
       "      <td>0.892</td>\n",
       "      <td>0.405</td>\n",
       "      <td>0.558</td>\n",
       "    </tr>\n",
       "    <tr>\n",
       "      <th>cue_cosmic_census</th>\n",
       "      <td>0.971</td>\n",
       "      <td>0.270</td>\n",
       "      <td>0.422</td>\n",
       "      <td>0.76</td>\n",
       "      <td>0.978</td>\n",
       "      <td>0.278</td>\n",
       "      <td>0.913</td>\n",
       "      <td>0.388</td>\n",
       "      <td>0.544</td>\n",
       "    </tr>\n",
       "    <tr>\n",
       "      <th>hmm</th>\n",
       "      <td>0.875</td>\n",
       "      <td>0.404</td>\n",
       "      <td>0.552</td>\n",
       "      <td>0.457</td>\n",
       "      <td>0.985</td>\n",
       "      <td>0.462</td>\n",
       "      <td>0.823</td>\n",
       "      <td>0.582</td>\n",
       "      <td>0.682</td>\n",
       "    </tr>\n",
       "    <tr>\n",
       "      <th>omim</th>\n",
       "      <td>0.943</td>\n",
       "      <td>0.321</td>\n",
       "      <td>0.478</td>\n",
       "      <td>0.76</td>\n",
       "      <td>0.978</td>\n",
       "      <td>0.34</td>\n",
       "      <td>0.887</td>\n",
       "      <td>0.462</td>\n",
       "      <td>0.608</td>\n",
       "    </tr>\n",
       "    <tr>\n",
       "      <th rowspan=\"5\" valign=\"top\">weighted</th>\n",
       "      <th rowspan=\"5\" valign=\"top\"></th>\n",
       "      <th>construct</th>\n",
       "      <td>0.887</td>\n",
       "      <td>0.303</td>\n",
       "      <td>0.452</td>\n",
       "      <td></td>\n",
       "      <td></td>\n",
       "      <td></td>\n",
       "      <td>0.831</td>\n",
       "      <td>0.435</td>\n",
       "      <td>0.572</td>\n",
       "    </tr>\n",
       "    <tr>\n",
       "      <th>cue_civic</th>\n",
       "      <td>0.957</td>\n",
       "      <td>0.284</td>\n",
       "      <td>0.438</td>\n",
       "      <td></td>\n",
       "      <td></td>\n",
       "      <td></td>\n",
       "      <td>0.892</td>\n",
       "      <td>0.405</td>\n",
       "      <td>0.558</td>\n",
       "    </tr>\n",
       "    <tr>\n",
       "      <th>cue_cosmic_census</th>\n",
       "      <td>0.971</td>\n",
       "      <td>0.270</td>\n",
       "      <td>0.422</td>\n",
       "      <td></td>\n",
       "      <td></td>\n",
       "      <td></td>\n",
       "      <td>0.913</td>\n",
       "      <td>0.388</td>\n",
       "      <td>0.544</td>\n",
       "    </tr>\n",
       "    <tr>\n",
       "      <th>hmm</th>\n",
       "      <td>0.875</td>\n",
       "      <td>0.404</td>\n",
       "      <td>0.552</td>\n",
       "      <td></td>\n",
       "      <td></td>\n",
       "      <td></td>\n",
       "      <td>0.823</td>\n",
       "      <td>0.582</td>\n",
       "      <td>0.682</td>\n",
       "    </tr>\n",
       "    <tr>\n",
       "      <th>omim</th>\n",
       "      <td>0.943</td>\n",
       "      <td>0.321</td>\n",
       "      <td>0.478</td>\n",
       "      <td></td>\n",
       "      <td></td>\n",
       "      <td></td>\n",
       "      <td>0.887</td>\n",
       "      <td>0.462</td>\n",
       "      <td>0.608</td>\n",
       "    </tr>\n",
       "  </tbody>\n",
       "</table>\n",
       "</div>"
      ],
      "text/plain": [
       "                                              tok_precision  tok_recall  \\\n",
       "label           proportion model                                          \n",
       "Gene or Protein 100.0 %    construct                  0.887       0.303   \n",
       "                           cue_civic                  0.957       0.284   \n",
       "                           cue_cosmic_census          0.971       0.270   \n",
       "                           hmm                        0.875       0.404   \n",
       "                           omim                       0.943       0.321   \n",
       "macro                      construct                  0.887       0.303   \n",
       "                           cue_civic                  0.957       0.284   \n",
       "                           cue_cosmic_census          0.971       0.270   \n",
       "                           hmm                        0.875       0.404   \n",
       "                           omim                       0.943       0.321   \n",
       "micro                      construct                  0.887       0.303   \n",
       "                           cue_civic                  0.957       0.284   \n",
       "                           cue_cosmic_census          0.971       0.270   \n",
       "                           hmm                        0.875       0.404   \n",
       "                           omim                       0.943       0.321   \n",
       "weighted                   construct                  0.887       0.303   \n",
       "                           cue_civic                  0.957       0.284   \n",
       "                           cue_cosmic_census          0.971       0.270   \n",
       "                           hmm                        0.875       0.404   \n",
       "                           omim                       0.943       0.321   \n",
       "\n",
       "                                              tok_f1 tok_cee tok_acc coverage  \\\n",
       "label           proportion model                                                \n",
       "Gene or Protein 100.0 %    construct           0.452                            \n",
       "                           cue_civic           0.438                            \n",
       "                           cue_cosmic_census   0.422                            \n",
       "                           hmm                 0.552                            \n",
       "                           omim                0.478                            \n",
       "macro                      construct           0.452                            \n",
       "                           cue_civic           0.438                            \n",
       "                           cue_cosmic_census   0.422                            \n",
       "                           hmm                 0.552                            \n",
       "                           omim                0.478                            \n",
       "micro                      construct           0.452    0.76   0.978    0.342   \n",
       "                           cue_civic           0.438    0.76   0.978    0.297   \n",
       "                           cue_cosmic_census   0.422    0.76   0.978    0.278   \n",
       "                           hmm                 0.552   0.457   0.985    0.462   \n",
       "                           omim                0.478    0.76   0.978     0.34   \n",
       "weighted                   construct           0.452                            \n",
       "                           cue_civic           0.438                            \n",
       "                           cue_cosmic_census   0.422                            \n",
       "                           hmm                 0.552                            \n",
       "                           omim                0.478                            \n",
       "\n",
       "                                              ent_precision  ent_recall  \\\n",
       "label           proportion model                                          \n",
       "Gene or Protein 100.0 %    construct                  0.831       0.435   \n",
       "                           cue_civic                  0.892       0.405   \n",
       "                           cue_cosmic_census          0.913       0.388   \n",
       "                           hmm                        0.823       0.582   \n",
       "                           omim                       0.887       0.462   \n",
       "macro                      construct                  0.831       0.435   \n",
       "                           cue_civic                  0.892       0.405   \n",
       "                           cue_cosmic_census          0.913       0.388   \n",
       "                           hmm                        0.823       0.582   \n",
       "                           omim                       0.887       0.462   \n",
       "micro                      construct                  0.831       0.435   \n",
       "                           cue_civic                  0.892       0.405   \n",
       "                           cue_cosmic_census          0.913       0.388   \n",
       "                           hmm                        0.823       0.582   \n",
       "                           omim                       0.887       0.462   \n",
       "weighted                   construct                  0.831       0.435   \n",
       "                           cue_civic                  0.892       0.405   \n",
       "                           cue_cosmic_census          0.913       0.388   \n",
       "                           hmm                        0.823       0.582   \n",
       "                           omim                       0.887       0.462   \n",
       "\n",
       "                                              ent_f1  \n",
       "label           proportion model                      \n",
       "Gene or Protein 100.0 %    construct           0.572  \n",
       "                           cue_civic           0.558  \n",
       "                           cue_cosmic_census   0.544  \n",
       "                           hmm                 0.682  \n",
       "                           omim                0.608  \n",
       "macro                      construct           0.572  \n",
       "                           cue_civic           0.558  \n",
       "                           cue_cosmic_census   0.544  \n",
       "                           hmm                 0.682  \n",
       "                           omim                0.608  \n",
       "micro                      construct           0.572  \n",
       "                           cue_civic           0.558  \n",
       "                           cue_cosmic_census   0.544  \n",
       "                           hmm                 0.682  \n",
       "                           omim                0.608  \n",
       "weighted                   construct           0.572  \n",
       "                           cue_civic           0.558  \n",
       "                           cue_cosmic_census   0.544  \n",
       "                           hmm                 0.682  \n",
       "                           omim                0.608  "
      ]
     },
     "execution_count": 30,
     "metadata": {},
     "output_type": "execute_result"
    }
   ],
   "source": [
    "# HMM / LFs vs. Gold-Standard\n",
    "#evaluate(gold_docs, ['Gen'], ['lf15', 'hmm'])\n",
    "evaluate(gold_docs_dev, ['Gene or Protein'], [l.name for l in lfs] + ['hmm'])"
   ]
  },
  {
   "cell_type": "markdown",
   "id": "c793b3ee-500a-4d28-8086-27a5e456fb27",
   "metadata": {},
   "source": [
    "# Training of Transformer-based NER Models"
   ]
  },
  {
   "cell_type": "code",
   "execution_count": null,
   "id": "fe40f18b-2112-479f-a513-a7728b095a33",
   "metadata": {},
   "outputs": [],
   "source": [
    "# Train NER model on weak labels with spaCy\n",
    "!spacy train config.cfg --paths.train output/weak_training.spacy  --paths.dev data/molecular/gold_dev.spacy --output output/weak_ner --gpu-id 0 --code training.py"
   ]
  },
  {
   "cell_type": "code",
   "execution_count": 31,
   "id": "4907d92c-3ead-411c-aa30-0d07215fb8c1",
   "metadata": {},
   "outputs": [
    {
     "name": "stdout",
     "output_type": "stream",
     "text": [
      "\u001b[38;5;2m✔ Created output directory: output/strong_ner\u001b[0m\n",
      "\u001b[38;5;4mℹ Saving to output directory: output/strong_ner\u001b[0m\n",
      "\u001b[38;5;4mℹ Using GPU: 0\u001b[0m\n",
      "\u001b[1m\n",
      "=========================== Initializing pipeline ===========================\u001b[0m\n",
      "[2022-11-28 17:43:06,711] [INFO] Set up nlp object from config\n",
      "[2022-11-28 17:43:06,718] [INFO] Pipeline: ['transformer', 'ner']\n",
      "[2022-11-28 17:43:06,721] [INFO] Created vocabulary\n",
      "[2022-11-28 17:43:06,721] [INFO] Finished initializing nlp object\n",
      "Some weights of the model checkpoint at bert-base-german-cased were not used when initializing BertModel: ['cls.predictions.transform.dense.weight', 'cls.predictions.transform.dense.bias', 'cls.predictions.transform.LayerNorm.weight', 'cls.predictions.bias', 'cls.seq_relationship.weight', 'cls.seq_relationship.bias', 'cls.predictions.transform.LayerNorm.bias', 'cls.predictions.decoder.weight']\n",
      "- This IS expected if you are initializing BertModel from the checkpoint of a model trained on another task or with another architecture (e.g. initializing a BertForSequenceClassification model from a BertForPreTraining model).\n",
      "- This IS NOT expected if you are initializing BertModel from the checkpoint of a model that you expect to be exactly identical (initializing a BertForSequenceClassification model from a BertForSequenceClassification model).\n",
      "[2022-11-28 17:43:14,860] [INFO] Initialized pipeline components: ['transformer', 'ner']\n",
      "\u001b[38;5;2m✔ Initialized pipeline\u001b[0m\n",
      "\u001b[1m\n",
      "============================= Training pipeline =============================\u001b[0m\n",
      "\u001b[38;5;4mℹ Pipeline: ['transformer', 'ner']\u001b[0m\n",
      "\u001b[38;5;4mℹ Initial learn rate: 0.0\u001b[0m\n",
      "E    #       LOSS TRANS...  LOSS NER  ENTS_F  ENTS_P  ENTS_R  SCORE \n",
      "---  ------  -------------  --------  ------  ------  ------  ------\n",
      "  0       0         475.03    220.44    0.00    0.00    0.00    0.00\n",
      " 10     200       38096.82  18778.12   65.51   62.70   68.59    0.66\n",
      " 21     400         152.18   1090.06   65.66   62.26   69.44    0.66\n",
      " 31     600          41.28    891.16   65.69   64.15   67.31    0.66\n",
      " 42     800          11.89    807.07   69.68   67.13   72.44    0.70\n",
      " 53    1000          50.09    862.85   78.61   82.59   75.00    0.79\n",
      " 63    1200           0.00    756.31   79.74   81.80   77.78    0.80\n",
      " 73    1400           0.00    723.62   80.30   81.82   78.85    0.80\n",
      " 84    1600           0.00    705.88   80.22   81.64   78.85    0.80\n",
      " 95    1800           0.00    657.70   80.13   81.92   78.42    0.80\n",
      "105    2000           0.56    630.13   78.00   76.17   79.91    0.78\n",
      "116    2200         212.91    886.05   76.80   79.91   73.93    0.77\n",
      "126    2400          63.07    647.75   77.84   84.12   72.44    0.78\n",
      "136    2600         100.30    571.84   77.18   75.00   79.49    0.77\n",
      "^C\n"
     ]
    }
   ],
   "source": [
    "# Baseline: train NER model on strong labels with spaCy\n",
    "!spacy train config.cfg --paths.train data/molecular/gold_dev.spacy --paths.dev data/molecular/gold_test.spacy --output output/strong_ner --gpu-id 0 --code training.py"
   ]
  },
  {
   "cell_type": "markdown",
   "id": "42435ea6-98d4-4dbe-9c45-188ab8d4d690",
   "metadata": {},
   "source": [
    "# Evaluation"
   ]
  },
  {
   "cell_type": "code",
   "execution_count": 33,
   "id": "8842e777-aa91-485e-8e61-a4fc70790679",
   "metadata": {},
   "outputs": [],
   "source": [
    "ner_model_weak = spacy.load('output/weak_ner/model-best/')\n",
    "ner_model_strong = spacy.load('output/strong_ner/model-best/')"
   ]
  },
  {
   "cell_type": "code",
   "execution_count": 34,
   "id": "ef897e37-9bae-49ee-b8c1-267f19ceffe5",
   "metadata": {},
   "outputs": [],
   "source": [
    "from IPython.display import display, Markdown\n",
    "\n",
    "def print_metrics(gold_docs, is_test : bool):\n",
    "    display(Markdown('__Labeling Function / HMM performance__'))\n",
    "    gold_ents = [d.ents for d in gold_docs]\n",
    "    \n",
    "    apply_hmm(gold_docs)\n",
    "    \n",
    "    display(evaluate(gold_docs, ['Gene or Protein'], [l.name for l in lfs] + ['hmm']).loc['Gene or Protein'])\n",
    "        \n",
    "    display(Markdown('__Weak NER Performance__'))\n",
    "    for d, gold_ent in zip(gold_docs, tqdm(gold_ents)):\n",
    "        d.set_ents([])\n",
    "        d = ner_model_weak(d)\n",
    "        d.spans['ner_model'] = d.ents\n",
    "        d.set_ents(gold_ent)\n",
    "    display(evaluate(gold_docs, ['Gene or Protein'], ['ner_model']).loc['Gene or Protein'])\n",
    "    \n",
    "    if is_test:\n",
    "        display(Markdown('__Strong NER Performance__'))\n",
    "        for d, gold_ent in zip(gold_docs, tqdm(gold_ents)):\n",
    "            d.set_ents([])\n",
    "            d = ner_model_strong(d)\n",
    "            d.spans['ner_model'] = d.ents\n",
    "            d.set_ents(gold_ent)\n",
    "        display(evaluate(gold_docs, ['Gene or Protein'], ['ner_model']).loc['Gene or Protein'])"
   ]
  },
  {
   "cell_type": "markdown",
   "id": "447db4d7-1452-41ed-b0e8-802d8a7d8364",
   "metadata": {},
   "source": [
    "## Dev Set Evaluation"
   ]
  },
  {
   "cell_type": "code",
   "execution_count": 35,
   "id": "5be94760-3fa5-40e9-bb8f-d798cd452f6b",
   "metadata": {},
   "outputs": [
    {
     "data": {
      "text/markdown": [
       "__Labeling Function / HMM performance__"
      ],
      "text/plain": [
       "<IPython.core.display.Markdown object>"
      ]
     },
     "metadata": {},
     "output_type": "display_data"
    },
    {
     "name": "stderr",
     "output_type": "stream",
     "text": [
      "100%|███████████████████████████████████████████████████████████████████████████████████████████████████| 1095/1095 [00:11<00:00, 93.20it/s]\n"
     ]
    },
    {
     "data": {
      "text/html": [
       "<div>\n",
       "<style scoped>\n",
       "    .dataframe tbody tr th:only-of-type {\n",
       "        vertical-align: middle;\n",
       "    }\n",
       "\n",
       "    .dataframe tbody tr th {\n",
       "        vertical-align: top;\n",
       "    }\n",
       "\n",
       "    .dataframe thead th {\n",
       "        text-align: right;\n",
       "    }\n",
       "</style>\n",
       "<table border=\"1\" class=\"dataframe\">\n",
       "  <thead>\n",
       "    <tr style=\"text-align: right;\">\n",
       "      <th></th>\n",
       "      <th></th>\n",
       "      <th>tok_precision</th>\n",
       "      <th>tok_recall</th>\n",
       "      <th>tok_f1</th>\n",
       "      <th>tok_cee</th>\n",
       "      <th>tok_acc</th>\n",
       "      <th>coverage</th>\n",
       "      <th>ent_precision</th>\n",
       "      <th>ent_recall</th>\n",
       "      <th>ent_f1</th>\n",
       "    </tr>\n",
       "    <tr>\n",
       "      <th>proportion</th>\n",
       "      <th>model</th>\n",
       "      <th></th>\n",
       "      <th></th>\n",
       "      <th></th>\n",
       "      <th></th>\n",
       "      <th></th>\n",
       "      <th></th>\n",
       "      <th></th>\n",
       "      <th></th>\n",
       "      <th></th>\n",
       "    </tr>\n",
       "  </thead>\n",
       "  <tbody>\n",
       "    <tr>\n",
       "      <th rowspan=\"5\" valign=\"top\">100.0 %</th>\n",
       "      <th>construct</th>\n",
       "      <td>0.887</td>\n",
       "      <td>0.303</td>\n",
       "      <td>0.452</td>\n",
       "      <td></td>\n",
       "      <td></td>\n",
       "      <td></td>\n",
       "      <td>0.831</td>\n",
       "      <td>0.435</td>\n",
       "      <td>0.572</td>\n",
       "    </tr>\n",
       "    <tr>\n",
       "      <th>cue_civic</th>\n",
       "      <td>0.957</td>\n",
       "      <td>0.284</td>\n",
       "      <td>0.438</td>\n",
       "      <td></td>\n",
       "      <td></td>\n",
       "      <td></td>\n",
       "      <td>0.892</td>\n",
       "      <td>0.405</td>\n",
       "      <td>0.558</td>\n",
       "    </tr>\n",
       "    <tr>\n",
       "      <th>cue_cosmic_census</th>\n",
       "      <td>0.971</td>\n",
       "      <td>0.270</td>\n",
       "      <td>0.422</td>\n",
       "      <td></td>\n",
       "      <td></td>\n",
       "      <td></td>\n",
       "      <td>0.913</td>\n",
       "      <td>0.388</td>\n",
       "      <td>0.544</td>\n",
       "    </tr>\n",
       "    <tr>\n",
       "      <th>hmm</th>\n",
       "      <td>0.875</td>\n",
       "      <td>0.404</td>\n",
       "      <td>0.552</td>\n",
       "      <td></td>\n",
       "      <td></td>\n",
       "      <td></td>\n",
       "      <td>0.823</td>\n",
       "      <td>0.582</td>\n",
       "      <td>0.682</td>\n",
       "    </tr>\n",
       "    <tr>\n",
       "      <th>omim</th>\n",
       "      <td>0.943</td>\n",
       "      <td>0.321</td>\n",
       "      <td>0.478</td>\n",
       "      <td></td>\n",
       "      <td></td>\n",
       "      <td></td>\n",
       "      <td>0.887</td>\n",
       "      <td>0.462</td>\n",
       "      <td>0.608</td>\n",
       "    </tr>\n",
       "  </tbody>\n",
       "</table>\n",
       "</div>"
      ],
      "text/plain": [
       "                              tok_precision  tok_recall  tok_f1 tok_cee  \\\n",
       "proportion model                                                          \n",
       "100.0 %    construct                  0.887       0.303   0.452           \n",
       "           cue_civic                  0.957       0.284   0.438           \n",
       "           cue_cosmic_census          0.971       0.270   0.422           \n",
       "           hmm                        0.875       0.404   0.552           \n",
       "           omim                       0.943       0.321   0.478           \n",
       "\n",
       "                             tok_acc coverage  ent_precision  ent_recall  \\\n",
       "proportion model                                                           \n",
       "100.0 %    construct                                   0.831       0.435   \n",
       "           cue_civic                                   0.892       0.405   \n",
       "           cue_cosmic_census                           0.913       0.388   \n",
       "           hmm                                         0.823       0.582   \n",
       "           omim                                        0.887       0.462   \n",
       "\n",
       "                              ent_f1  \n",
       "proportion model                      \n",
       "100.0 %    construct           0.572  \n",
       "           cue_civic           0.558  \n",
       "           cue_cosmic_census   0.544  \n",
       "           hmm                 0.682  \n",
       "           omim                0.608  "
      ]
     },
     "metadata": {},
     "output_type": "display_data"
    },
    {
     "data": {
      "text/markdown": [
       "__Weak NER Performance__"
      ],
      "text/plain": [
       "<IPython.core.display.Markdown object>"
      ]
     },
     "metadata": {},
     "output_type": "display_data"
    },
    {
     "name": "stderr",
     "output_type": "stream",
     "text": [
      "100%|██████████████████████████████████████████████████████████████████████████████████████████████████▉| 1094/1095 [00:41<00:00, 26.07it/s]\n"
     ]
    },
    {
     "data": {
      "text/html": [
       "<div>\n",
       "<style scoped>\n",
       "    .dataframe tbody tr th:only-of-type {\n",
       "        vertical-align: middle;\n",
       "    }\n",
       "\n",
       "    .dataframe tbody tr th {\n",
       "        vertical-align: top;\n",
       "    }\n",
       "\n",
       "    .dataframe thead th {\n",
       "        text-align: right;\n",
       "    }\n",
       "</style>\n",
       "<table border=\"1\" class=\"dataframe\">\n",
       "  <thead>\n",
       "    <tr style=\"text-align: right;\">\n",
       "      <th></th>\n",
       "      <th></th>\n",
       "      <th>tok_precision</th>\n",
       "      <th>tok_recall</th>\n",
       "      <th>tok_f1</th>\n",
       "      <th>tok_cee</th>\n",
       "      <th>tok_acc</th>\n",
       "      <th>coverage</th>\n",
       "      <th>ent_precision</th>\n",
       "      <th>ent_recall</th>\n",
       "      <th>ent_f1</th>\n",
       "    </tr>\n",
       "    <tr>\n",
       "      <th>proportion</th>\n",
       "      <th>model</th>\n",
       "      <th></th>\n",
       "      <th></th>\n",
       "      <th></th>\n",
       "      <th></th>\n",
       "      <th></th>\n",
       "      <th></th>\n",
       "      <th></th>\n",
       "      <th></th>\n",
       "      <th></th>\n",
       "    </tr>\n",
       "  </thead>\n",
       "  <tbody>\n",
       "    <tr>\n",
       "      <th>100.0 %</th>\n",
       "      <th>ner_model</th>\n",
       "      <td>0.876</td>\n",
       "      <td>0.441</td>\n",
       "      <td>0.586</td>\n",
       "      <td></td>\n",
       "      <td></td>\n",
       "      <td></td>\n",
       "      <td>0.809</td>\n",
       "      <td>0.624</td>\n",
       "      <td>0.704</td>\n",
       "    </tr>\n",
       "  </tbody>\n",
       "</table>\n",
       "</div>"
      ],
      "text/plain": [
       "                      tok_precision  tok_recall  tok_f1 tok_cee tok_acc  \\\n",
       "proportion model                                                          \n",
       "100.0 %    ner_model          0.876       0.441   0.586                   \n",
       "\n",
       "                     coverage  ent_precision  ent_recall  ent_f1  \n",
       "proportion model                                                  \n",
       "100.0 %    ner_model                   0.809       0.624   0.704  "
      ]
     },
     "metadata": {},
     "output_type": "display_data"
    }
   ],
   "source": [
    "gold_docs_dev_eval = list(DocBin().from_disk('data/molecular/gold_dev.spacy').get_docs(nlp.vocab))\n",
    "\n",
    "print_metrics(gold_docs_dev_eval, is_test=False)"
   ]
  },
  {
   "cell_type": "markdown",
   "id": "8c25322e-327f-4050-8d7c-ef4042170b6e",
   "metadata": {},
   "source": [
    "## Test Set Evaluation"
   ]
  },
  {
   "cell_type": "code",
   "execution_count": 36,
   "id": "631cbb84-3c39-4281-9160-5029493a23a7",
   "metadata": {},
   "outputs": [
    {
     "data": {
      "text/markdown": [
       "__Labeling Function / HMM performance__"
      ],
      "text/plain": [
       "<IPython.core.display.Markdown object>"
      ]
     },
     "metadata": {},
     "output_type": "display_data"
    },
    {
     "name": "stderr",
     "output_type": "stream",
     "text": [
      "100%|██████████████████████████████████████████████████████████████████████████████████████████████████| 1611/1611 [00:13<00:00, 117.69it/s]\n"
     ]
    },
    {
     "data": {
      "text/html": [
       "<div>\n",
       "<style scoped>\n",
       "    .dataframe tbody tr th:only-of-type {\n",
       "        vertical-align: middle;\n",
       "    }\n",
       "\n",
       "    .dataframe tbody tr th {\n",
       "        vertical-align: top;\n",
       "    }\n",
       "\n",
       "    .dataframe thead th {\n",
       "        text-align: right;\n",
       "    }\n",
       "</style>\n",
       "<table border=\"1\" class=\"dataframe\">\n",
       "  <thead>\n",
       "    <tr style=\"text-align: right;\">\n",
       "      <th></th>\n",
       "      <th></th>\n",
       "      <th>tok_precision</th>\n",
       "      <th>tok_recall</th>\n",
       "      <th>tok_f1</th>\n",
       "      <th>tok_cee</th>\n",
       "      <th>tok_acc</th>\n",
       "      <th>coverage</th>\n",
       "      <th>ent_precision</th>\n",
       "      <th>ent_recall</th>\n",
       "      <th>ent_f1</th>\n",
       "    </tr>\n",
       "    <tr>\n",
       "      <th>proportion</th>\n",
       "      <th>model</th>\n",
       "      <th></th>\n",
       "      <th></th>\n",
       "      <th></th>\n",
       "      <th></th>\n",
       "      <th></th>\n",
       "      <th></th>\n",
       "      <th></th>\n",
       "      <th></th>\n",
       "      <th></th>\n",
       "    </tr>\n",
       "  </thead>\n",
       "  <tbody>\n",
       "    <tr>\n",
       "      <th rowspan=\"5\" valign=\"top\">100.0 %</th>\n",
       "      <th>construct</th>\n",
       "      <td>0.830</td>\n",
       "      <td>0.216</td>\n",
       "      <td>0.342</td>\n",
       "      <td></td>\n",
       "      <td></td>\n",
       "      <td></td>\n",
       "      <td>0.812</td>\n",
       "      <td>0.286</td>\n",
       "      <td>0.424</td>\n",
       "    </tr>\n",
       "    <tr>\n",
       "      <th>cue_civic</th>\n",
       "      <td>0.928</td>\n",
       "      <td>0.384</td>\n",
       "      <td>0.544</td>\n",
       "      <td></td>\n",
       "      <td></td>\n",
       "      <td></td>\n",
       "      <td>0.867</td>\n",
       "      <td>0.487</td>\n",
       "      <td>0.624</td>\n",
       "    </tr>\n",
       "    <tr>\n",
       "      <th>cue_cosmic_census</th>\n",
       "      <td>0.914</td>\n",
       "      <td>0.369</td>\n",
       "      <td>0.526</td>\n",
       "      <td></td>\n",
       "      <td></td>\n",
       "      <td></td>\n",
       "      <td>0.863</td>\n",
       "      <td>0.472</td>\n",
       "      <td>0.610</td>\n",
       "    </tr>\n",
       "    <tr>\n",
       "      <th>hmm</th>\n",
       "      <td>0.865</td>\n",
       "      <td>0.465</td>\n",
       "      <td>0.604</td>\n",
       "      <td></td>\n",
       "      <td></td>\n",
       "      <td></td>\n",
       "      <td>0.818</td>\n",
       "      <td>0.596</td>\n",
       "      <td>0.690</td>\n",
       "    </tr>\n",
       "    <tr>\n",
       "      <th>omim</th>\n",
       "      <td>0.919</td>\n",
       "      <td>0.394</td>\n",
       "      <td>0.552</td>\n",
       "      <td></td>\n",
       "      <td></td>\n",
       "      <td></td>\n",
       "      <td>0.868</td>\n",
       "      <td>0.504</td>\n",
       "      <td>0.638</td>\n",
       "    </tr>\n",
       "  </tbody>\n",
       "</table>\n",
       "</div>"
      ],
      "text/plain": [
       "                              tok_precision  tok_recall  tok_f1 tok_cee  \\\n",
       "proportion model                                                          \n",
       "100.0 %    construct                  0.830       0.216   0.342           \n",
       "           cue_civic                  0.928       0.384   0.544           \n",
       "           cue_cosmic_census          0.914       0.369   0.526           \n",
       "           hmm                        0.865       0.465   0.604           \n",
       "           omim                       0.919       0.394   0.552           \n",
       "\n",
       "                             tok_acc coverage  ent_precision  ent_recall  \\\n",
       "proportion model                                                           \n",
       "100.0 %    construct                                   0.812       0.286   \n",
       "           cue_civic                                   0.867       0.487   \n",
       "           cue_cosmic_census                           0.863       0.472   \n",
       "           hmm                                         0.818       0.596   \n",
       "           omim                                        0.868       0.504   \n",
       "\n",
       "                              ent_f1  \n",
       "proportion model                      \n",
       "100.0 %    construct           0.424  \n",
       "           cue_civic           0.624  \n",
       "           cue_cosmic_census   0.610  \n",
       "           hmm                 0.690  \n",
       "           omim                0.638  "
      ]
     },
     "metadata": {},
     "output_type": "display_data"
    },
    {
     "data": {
      "text/markdown": [
       "__Weak NER Performance__"
      ],
      "text/plain": [
       "<IPython.core.display.Markdown object>"
      ]
     },
     "metadata": {},
     "output_type": "display_data"
    },
    {
     "name": "stderr",
     "output_type": "stream",
     "text": [
      "100%|██████████████████████████████████████████████████████████████████████████████████████████████████▉| 1610/1611 [00:59<00:00, 27.22it/s]\n"
     ]
    },
    {
     "data": {
      "text/html": [
       "<div>\n",
       "<style scoped>\n",
       "    .dataframe tbody tr th:only-of-type {\n",
       "        vertical-align: middle;\n",
       "    }\n",
       "\n",
       "    .dataframe tbody tr th {\n",
       "        vertical-align: top;\n",
       "    }\n",
       "\n",
       "    .dataframe thead th {\n",
       "        text-align: right;\n",
       "    }\n",
       "</style>\n",
       "<table border=\"1\" class=\"dataframe\">\n",
       "  <thead>\n",
       "    <tr style=\"text-align: right;\">\n",
       "      <th></th>\n",
       "      <th></th>\n",
       "      <th>tok_precision</th>\n",
       "      <th>tok_recall</th>\n",
       "      <th>tok_f1</th>\n",
       "      <th>tok_cee</th>\n",
       "      <th>tok_acc</th>\n",
       "      <th>coverage</th>\n",
       "      <th>ent_precision</th>\n",
       "      <th>ent_recall</th>\n",
       "      <th>ent_f1</th>\n",
       "    </tr>\n",
       "    <tr>\n",
       "      <th>proportion</th>\n",
       "      <th>model</th>\n",
       "      <th></th>\n",
       "      <th></th>\n",
       "      <th></th>\n",
       "      <th></th>\n",
       "      <th></th>\n",
       "      <th></th>\n",
       "      <th></th>\n",
       "      <th></th>\n",
       "      <th></th>\n",
       "    </tr>\n",
       "  </thead>\n",
       "  <tbody>\n",
       "    <tr>\n",
       "      <th>100.0 %</th>\n",
       "      <th>ner_model</th>\n",
       "      <td>0.87</td>\n",
       "      <td>0.476</td>\n",
       "      <td>0.616</td>\n",
       "      <td></td>\n",
       "      <td></td>\n",
       "      <td></td>\n",
       "      <td>0.807</td>\n",
       "      <td>0.598</td>\n",
       "      <td>0.686</td>\n",
       "    </tr>\n",
       "  </tbody>\n",
       "</table>\n",
       "</div>"
      ],
      "text/plain": [
       "                      tok_precision  tok_recall  tok_f1 tok_cee tok_acc  \\\n",
       "proportion model                                                          \n",
       "100.0 %    ner_model           0.87       0.476   0.616                   \n",
       "\n",
       "                     coverage  ent_precision  ent_recall  ent_f1  \n",
       "proportion model                                                  \n",
       "100.0 %    ner_model                   0.807       0.598   0.686  "
      ]
     },
     "metadata": {},
     "output_type": "display_data"
    },
    {
     "data": {
      "text/markdown": [
       "__Strong NER Performance__"
      ],
      "text/plain": [
       "<IPython.core.display.Markdown object>"
      ]
     },
     "metadata": {},
     "output_type": "display_data"
    },
    {
     "name": "stderr",
     "output_type": "stream",
     "text": [
      "100%|██████████████████████████████████████████████████████████████████████████████████████████████████▉| 1610/1611 [00:55<00:00, 29.07it/s]\n"
     ]
    },
    {
     "data": {
      "text/html": [
       "<div>\n",
       "<style scoped>\n",
       "    .dataframe tbody tr th:only-of-type {\n",
       "        vertical-align: middle;\n",
       "    }\n",
       "\n",
       "    .dataframe tbody tr th {\n",
       "        vertical-align: top;\n",
       "    }\n",
       "\n",
       "    .dataframe thead th {\n",
       "        text-align: right;\n",
       "    }\n",
       "</style>\n",
       "<table border=\"1\" class=\"dataframe\">\n",
       "  <thead>\n",
       "    <tr style=\"text-align: right;\">\n",
       "      <th></th>\n",
       "      <th></th>\n",
       "      <th>tok_precision</th>\n",
       "      <th>tok_recall</th>\n",
       "      <th>tok_f1</th>\n",
       "      <th>tok_cee</th>\n",
       "      <th>tok_acc</th>\n",
       "      <th>coverage</th>\n",
       "      <th>ent_precision</th>\n",
       "      <th>ent_recall</th>\n",
       "      <th>ent_f1</th>\n",
       "    </tr>\n",
       "    <tr>\n",
       "      <th>proportion</th>\n",
       "      <th>model</th>\n",
       "      <th></th>\n",
       "      <th></th>\n",
       "      <th></th>\n",
       "      <th></th>\n",
       "      <th></th>\n",
       "      <th></th>\n",
       "      <th></th>\n",
       "      <th></th>\n",
       "      <th></th>\n",
       "    </tr>\n",
       "  </thead>\n",
       "  <tbody>\n",
       "    <tr>\n",
       "      <th>100.0 %</th>\n",
       "      <th>ner_model</th>\n",
       "      <td>0.868</td>\n",
       "      <td>0.78</td>\n",
       "      <td>0.822</td>\n",
       "      <td></td>\n",
       "      <td></td>\n",
       "      <td></td>\n",
       "      <td>0.818</td>\n",
       "      <td>0.788</td>\n",
       "      <td>0.802</td>\n",
       "    </tr>\n",
       "  </tbody>\n",
       "</table>\n",
       "</div>"
      ],
      "text/plain": [
       "                      tok_precision  tok_recall  tok_f1 tok_cee tok_acc  \\\n",
       "proportion model                                                          \n",
       "100.0 %    ner_model          0.868        0.78   0.822                   \n",
       "\n",
       "                     coverage  ent_precision  ent_recall  ent_f1  \n",
       "proportion model                                                  \n",
       "100.0 %    ner_model                   0.818       0.788   0.802  "
      ]
     },
     "metadata": {},
     "output_type": "display_data"
    }
   ],
   "source": [
    "gold_docs_test_eval = list(DocBin().from_disk('data/molecular/gold_test.spacy').get_docs(nlp.vocab))\n",
    "\n",
    "print_metrics(gold_docs_test_eval, is_test=True)"
   ]
  },
  {
   "cell_type": "code",
   "execution_count": null,
   "id": "28842157-5362-4368-9909-b0c5b26fc677",
   "metadata": {},
   "outputs": [],
   "source": []
  }
 ],
 "metadata": {
  "kernelspec": {
   "display_name": "Python [conda env:ggponc]",
   "language": "python",
   "name": "conda-env-ggponc-py"
  },
  "language_info": {
   "codemirror_mode": {
    "name": "ipython",
    "version": 3
   },
   "file_extension": ".py",
   "mimetype": "text/x-python",
   "name": "python",
   "nbconvert_exporter": "python",
   "pygments_lexer": "ipython3",
   "version": "3.8.0"
  }
 },
 "nbformat": 4,
 "nbformat_minor": 5
}
