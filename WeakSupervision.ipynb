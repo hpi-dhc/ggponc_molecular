{
 "cells": [
  {
   "cell_type": "markdown",
   "id": "1c5c3dbc-7e8d-47eb-8c78-591c4edc2347",
   "metadata": {},
   "source": [
    "TODO: Add brief intro"
   ]
  },
  {
   "cell_type": "code",
   "execution_count": 1,
   "id": "bb5a326a-91b3-4057-af63-82389654e86c",
   "metadata": {},
   "outputs": [],
   "source": [
    "# Imports"
   ]
  },
  {
   "cell_type": "markdown",
   "id": "1eeaf50d-2649-437d-83e5-6af3f8927bd0",
   "metadata": {},
   "source": [
    "# Load Data"
   ]
  },
  {
   "cell_type": "code",
   "execution_count": null,
   "id": "8712ce01-00dd-4afd-af2d-eca3788c264e",
   "metadata": {},
   "outputs": [],
   "source": [
    "# load .spacy models"
   ]
  },
  {
   "cell_type": "code",
   "execution_count": 14,
   "id": "a54153a7-1586-4cd3-9f05-b95aca1bea34",
   "metadata": {},
   "outputs": [],
   "source": [
    "# Calculate data stats (number of genes, sentences, etc...) -> Table for Materials"
   ]
  },
  {
   "cell_type": "markdown",
   "id": "bae7c442-07f8-4727-a33a-cb84dca20aa4",
   "metadata": {},
   "source": [
    "# Labeling Functions"
   ]
  },
  {
   "cell_type": "code",
   "execution_count": 3,
   "id": "09a9d007-e413-4718-8e00-dbe9d1f6ee5c",
   "metadata": {},
   "outputs": [],
   "source": [
    "# Load gazetteers"
   ]
  },
  {
   "cell_type": "code",
   "execution_count": 4,
   "id": "e6813e7a-8d36-4da2-9749-9c9b6ffc6d0f",
   "metadata": {},
   "outputs": [],
   "source": [
    "# Define Labeling functions"
   ]
  },
  {
   "cell_type": "code",
   "execution_count": 5,
   "id": "d9bc3aae-f3c3-4d76-93f1-ea2b44d8e9f9",
   "metadata": {},
   "outputs": [],
   "source": [
    "# Apply Labeling Functions to data"
   ]
  },
  {
   "cell_type": "markdown",
   "id": "6e00ac4b-8333-44bf-9274-ab6734810bbb",
   "metadata": {},
   "source": [
    "# Labeling Function Analysis"
   ]
  },
  {
   "cell_type": "code",
   "execution_count": 7,
   "id": "7efce228-337e-4bd0-8dfc-79766289efe8",
   "metadata": {},
   "outputs": [],
   "source": [
    "# calculate agreement, overlap, create heatmap"
   ]
  },
  {
   "cell_type": "markdown",
   "id": "e9eeb61a-975b-43bf-9a30-4d7d3bc40b65",
   "metadata": {},
   "source": [
    "# Label Aggregation"
   ]
  },
  {
   "cell_type": "code",
   "execution_count": 17,
   "id": "cf2dd2ea-50b3-4a17-8905-30545b57a78b",
   "metadata": {},
   "outputs": [],
   "source": [
    "# Train HMM, Majority Voter, etc..."
   ]
  },
  {
   "cell_type": "markdown",
   "id": "f8463328-767e-4c89-a5e0-d62a496fc1bb",
   "metadata": {},
   "source": [
    "# Load Gold-Standard Training Data"
   ]
  },
  {
   "cell_type": "code",
   "execution_count": 12,
   "id": "344d9203-633c-49cc-8732-0bab2691d0c8",
   "metadata": {},
   "outputs": [],
   "source": [
    "# Load dev / test data"
   ]
  },
  {
   "cell_type": "markdown",
   "id": "c793b3ee-500a-4d28-8086-27a5e456fb27",
   "metadata": {},
   "source": [
    "# Named Entity Recognition"
   ]
  },
  {
   "cell_type": "code",
   "execution_count": 11,
   "id": "4907d92c-3ead-411c-aa30-0d07215fb8c1",
   "metadata": {},
   "outputs": [],
   "source": [
    "# Train NER model with spaCy"
   ]
  },
  {
   "cell_type": "markdown",
   "id": "42435ea6-98d4-4dbe-9c45-188ab8d4d690",
   "metadata": {},
   "source": [
    "# Evaluation"
   ]
  },
  {
   "cell_type": "code",
   "execution_count": 16,
   "id": "9c92a75c-31d2-4d99-8d80-bbd88fb62fe3",
   "metadata": {},
   "outputs": [],
   "source": [
    "# Evaluate HMM, LFs, NER model on dev / test data -> final performance table"
   ]
  },
  {
   "cell_type": "code",
   "execution_count": null,
   "id": "5404c865-e690-4bd5-b220-8c3f8109dc8d",
   "metadata": {},
   "outputs": [],
   "source": []
  }
 ],
 "metadata": {
  "kernelspec": {
   "display_name": "Python 3 (ipykernel)",
   "language": "python",
   "name": "python3"
  },
  "language_info": {
   "codemirror_mode": {
    "name": "ipython",
    "version": 3
   },
   "file_extension": ".py",
   "mimetype": "text/x-python",
   "name": "python",
   "nbconvert_exporter": "python",
   "pygments_lexer": "ipython3",
   "version": "3.8.12"
  }
 },
 "nbformat": 4,
 "nbformat_minor": 5
}
